{
 "cells": [
  {
   "cell_type": "code",
   "execution_count": 249,
   "id": "828aced7",
   "metadata": {},
   "outputs": [],
   "source": [
    "import numpy as np \n",
    "import pandas as pd \n",
    "import matplotlib.pyplot as plt\n",
    "import datetime as dt\n",
    "import seaborn as sns\n",
    "import scipy.stats as stats"
   ]
  },
  {
   "cell_type": "markdown",
   "id": "d07b8374",
   "metadata": {},
   "source": [
    "### 1. Import claims_data.csv and cust_data.csv which is provided to you and combine the two datasets appropriately to create a 360-degree view of the data. Use the same for the subsequent questions."
   ]
  },
  {
   "cell_type": "code",
   "execution_count": 112,
   "id": "c59358e6",
   "metadata": {},
   "outputs": [
    {
     "data": {
      "text/html": [
       "<div>\n",
       "<style scoped>\n",
       "    .dataframe tbody tr th:only-of-type {\n",
       "        vertical-align: middle;\n",
       "    }\n",
       "\n",
       "    .dataframe tbody tr th {\n",
       "        vertical-align: top;\n",
       "    }\n",
       "\n",
       "    .dataframe thead th {\n",
       "        text-align: right;\n",
       "    }\n",
       "</style>\n",
       "<table border=\"1\" class=\"dataframe\">\n",
       "  <thead>\n",
       "    <tr style=\"text-align: right;\">\n",
       "      <th></th>\n",
       "      <th>claim_id</th>\n",
       "      <th>customer_id</th>\n",
       "      <th>incident_cause</th>\n",
       "      <th>claim_date</th>\n",
       "      <th>claim_area</th>\n",
       "      <th>police_report</th>\n",
       "      <th>claim_type</th>\n",
       "      <th>claim_amount</th>\n",
       "      <th>total_policy_claims</th>\n",
       "      <th>fraudulent</th>\n",
       "    </tr>\n",
       "  </thead>\n",
       "  <tbody>\n",
       "    <tr>\n",
       "      <th>0</th>\n",
       "      <td>54004764</td>\n",
       "      <td>21868593</td>\n",
       "      <td>Driver error</td>\n",
       "      <td>11/27/2017</td>\n",
       "      <td>Auto</td>\n",
       "      <td>No</td>\n",
       "      <td>Material only</td>\n",
       "      <td>$2980</td>\n",
       "      <td>1.0</td>\n",
       "      <td>No</td>\n",
       "    </tr>\n",
       "  </tbody>\n",
       "</table>\n",
       "</div>"
      ],
      "text/plain": [
       "   claim_id  customer_id incident_cause  claim_date claim_area police_report  \\\n",
       "0  54004764     21868593   Driver error  11/27/2017       Auto            No   \n",
       "\n",
       "      claim_type claim_amount  total_policy_claims fraudulent  \n",
       "0  Material only        $2980                  1.0         No  "
      ]
     },
     "execution_count": 112,
     "metadata": {},
     "output_type": "execute_result"
    }
   ],
   "source": [
    "claim = pd.read_csv(\"C:\\Mohit Personel\\COURSES\\Analytix Labs\\Python for Data Science\\Python Projects\\Basic python case study\\Python Foundation Case Study 3 - Insurance Claims Case Study\\claims.csv\")\n",
    "claim.head(1)"
   ]
  },
  {
   "cell_type": "code",
   "execution_count": 113,
   "id": "59368c67",
   "metadata": {},
   "outputs": [
    {
     "data": {
      "text/html": [
       "<div>\n",
       "<style scoped>\n",
       "    .dataframe tbody tr th:only-of-type {\n",
       "        vertical-align: middle;\n",
       "    }\n",
       "\n",
       "    .dataframe tbody tr th {\n",
       "        vertical-align: top;\n",
       "    }\n",
       "\n",
       "    .dataframe thead th {\n",
       "        text-align: right;\n",
       "    }\n",
       "</style>\n",
       "<table border=\"1\" class=\"dataframe\">\n",
       "  <thead>\n",
       "    <tr style=\"text-align: right;\">\n",
       "      <th></th>\n",
       "      <th>CUST_ID</th>\n",
       "      <th>gender</th>\n",
       "      <th>DateOfBirth</th>\n",
       "      <th>State</th>\n",
       "      <th>Contact</th>\n",
       "      <th>Segment</th>\n",
       "    </tr>\n",
       "  </thead>\n",
       "  <tbody>\n",
       "    <tr>\n",
       "      <th>0</th>\n",
       "      <td>21868593</td>\n",
       "      <td>Female</td>\n",
       "      <td>12-Jan-79</td>\n",
       "      <td>VT</td>\n",
       "      <td>789-916-8172</td>\n",
       "      <td>Platinum</td>\n",
       "    </tr>\n",
       "  </tbody>\n",
       "</table>\n",
       "</div>"
      ],
      "text/plain": [
       "    CUST_ID  gender DateOfBirth State       Contact   Segment\n",
       "0  21868593  Female   12-Jan-79    VT  789-916-8172  Platinum"
      ]
     },
     "execution_count": 113,
     "metadata": {},
     "output_type": "execute_result"
    }
   ],
   "source": [
    "cust = pd.read_csv(\"C:\\Mohit Personel\\COURSES\\Analytix Labs\\Python for Data Science\\Python Projects\\Basic python case study\\Python Foundation Case Study 3 - Insurance Claims Case Study\\cust_demographics.csv\")\n",
    "cust.head(1)"
   ]
  },
  {
   "cell_type": "code",
   "execution_count": 114,
   "id": "fec31879",
   "metadata": {},
   "outputs": [
    {
     "data": {
      "text/html": [
       "<div>\n",
       "<style scoped>\n",
       "    .dataframe tbody tr th:only-of-type {\n",
       "        vertical-align: middle;\n",
       "    }\n",
       "\n",
       "    .dataframe tbody tr th {\n",
       "        vertical-align: top;\n",
       "    }\n",
       "\n",
       "    .dataframe thead th {\n",
       "        text-align: right;\n",
       "    }\n",
       "</style>\n",
       "<table border=\"1\" class=\"dataframe\">\n",
       "  <thead>\n",
       "    <tr style=\"text-align: right;\">\n",
       "      <th></th>\n",
       "      <th>CUST_ID</th>\n",
       "      <th>gender</th>\n",
       "      <th>DateOfBirth</th>\n",
       "      <th>State</th>\n",
       "      <th>Contact</th>\n",
       "      <th>Segment</th>\n",
       "      <th>claim_id</th>\n",
       "      <th>customer_id</th>\n",
       "      <th>incident_cause</th>\n",
       "      <th>claim_date</th>\n",
       "      <th>claim_area</th>\n",
       "      <th>police_report</th>\n",
       "      <th>claim_type</th>\n",
       "      <th>claim_amount</th>\n",
       "      <th>total_policy_claims</th>\n",
       "      <th>fraudulent</th>\n",
       "    </tr>\n",
       "  </thead>\n",
       "  <tbody>\n",
       "    <tr>\n",
       "      <th>0</th>\n",
       "      <td>21868593</td>\n",
       "      <td>Female</td>\n",
       "      <td>12-Jan-79</td>\n",
       "      <td>VT</td>\n",
       "      <td>789-916-8172</td>\n",
       "      <td>Platinum</td>\n",
       "      <td>54004764</td>\n",
       "      <td>21868593</td>\n",
       "      <td>Driver error</td>\n",
       "      <td>11/27/2017</td>\n",
       "      <td>Auto</td>\n",
       "      <td>No</td>\n",
       "      <td>Material only</td>\n",
       "      <td>$2980</td>\n",
       "      <td>1.0</td>\n",
       "      <td>No</td>\n",
       "    </tr>\n",
       "    <tr>\n",
       "      <th>1</th>\n",
       "      <td>75740424</td>\n",
       "      <td>Female</td>\n",
       "      <td>13-Jan-70</td>\n",
       "      <td>ME</td>\n",
       "      <td>265-543-1264</td>\n",
       "      <td>Silver</td>\n",
       "      <td>33985796</td>\n",
       "      <td>75740424</td>\n",
       "      <td>Crime</td>\n",
       "      <td>10/03/2018</td>\n",
       "      <td>Home</td>\n",
       "      <td>Unknown</td>\n",
       "      <td>Material only</td>\n",
       "      <td>$2980</td>\n",
       "      <td>3.0</td>\n",
       "      <td>No</td>\n",
       "    </tr>\n",
       "  </tbody>\n",
       "</table>\n",
       "</div>"
      ],
      "text/plain": [
       "    CUST_ID  gender DateOfBirth State       Contact   Segment  claim_id  \\\n",
       "0  21868593  Female   12-Jan-79    VT  789-916-8172  Platinum  54004764   \n",
       "1  75740424  Female   13-Jan-70    ME  265-543-1264    Silver  33985796   \n",
       "\n",
       "   customer_id incident_cause  claim_date claim_area police_report  \\\n",
       "0     21868593   Driver error  11/27/2017       Auto            No   \n",
       "1     75740424          Crime  10/03/2018       Home       Unknown   \n",
       "\n",
       "      claim_type claim_amount  total_policy_claims fraudulent  \n",
       "0  Material only        $2980                  1.0         No  \n",
       "1  Material only        $2980                  3.0         No  "
      ]
     },
     "execution_count": 114,
     "metadata": {},
     "output_type": "execute_result"
    }
   ],
   "source": [
    "cust_claim = pd.merge(left = cust, right = claim, left_on = 'CUST_ID', right_on = 'customer_id', how = 'inner')\n",
    "cust_claim.head(2)"
   ]
  },
  {
   "cell_type": "markdown",
   "id": "ad49b47f",
   "metadata": {},
   "source": [
    "### 2. Perform a data audit for the datatypes and find out if there are any mismatch within the current datatypes of the columns and their business significance."
   ]
  },
  {
   "cell_type": "code",
   "execution_count": 115,
   "id": "87f2014c",
   "metadata": {},
   "outputs": [
    {
     "data": {
      "text/plain": [
       "CUST_ID                  int64\n",
       "gender                  object\n",
       "DateOfBirth             object\n",
       "State                   object\n",
       "Contact                 object\n",
       "Segment                 object\n",
       "claim_id                 int64\n",
       "customer_id              int64\n",
       "incident_cause          object\n",
       "claim_date              object\n",
       "claim_area              object\n",
       "police_report           object\n",
       "claim_type              object\n",
       "claim_amount            object\n",
       "total_policy_claims    float64\n",
       "fraudulent              object\n",
       "dtype: object"
      ]
     },
     "execution_count": 115,
     "metadata": {},
     "output_type": "execute_result"
    }
   ],
   "source": [
    "cust_claim.dtypes"
   ]
  },
  {
   "cell_type": "code",
   "execution_count": 116,
   "id": "1cb6c51e",
   "metadata": {},
   "outputs": [
    {
     "data": {
      "text/plain": [
       "CUST_ID                         int64\n",
       "gender                         object\n",
       "DateOfBirth            datetime64[ns]\n",
       "State                          object\n",
       "Contact                        object\n",
       "Segment                        object\n",
       "claim_id                        int64\n",
       "customer_id                     int64\n",
       "incident_cause                 object\n",
       "claim_date             datetime64[ns]\n",
       "claim_area                     object\n",
       "police_report                  object\n",
       "claim_type                     object\n",
       "claim_amount                   object\n",
       "total_policy_claims           float64\n",
       "fraudulent                     object\n",
       "dtype: object"
      ]
     },
     "execution_count": 116,
     "metadata": {},
     "output_type": "execute_result"
    }
   ],
   "source": [
    "cust_claim['DateOfBirth']=pd.to_datetime(cust_claim['DateOfBirth'])\n",
    "cust_claim['claim_date']=pd.to_datetime(cust_claim['claim_date'])\n",
    "cust_claim.dtypes"
   ]
  },
  {
   "cell_type": "markdown",
   "id": "fe61c669",
   "metadata": {},
   "source": [
    "### 3. Convert the column claim_amount to numeric. Use the appropriate modules/attributes to remove the $ sign.\n"
   ]
  },
  {
   "cell_type": "code",
   "execution_count": 117,
   "id": "99decc15",
   "metadata": {},
   "outputs": [
    {
     "name": "stderr",
     "output_type": "stream",
     "text": [
      "C:\\Users\\mohit\\AppData\\Local\\Temp\\ipykernel_11568\\666018213.py:1: FutureWarning: The default value of regex will change from True to False in a future version. In addition, single character regular expressions will *not* be treated as literal strings when regex=True.\n",
      "  cust_claim['claim_amount']=cust_claim['claim_amount'].str.replace('$','')\n"
     ]
    }
   ],
   "source": [
    "cust_claim['claim_amount']=cust_claim['claim_amount'].str.replace('$','')"
   ]
  },
  {
   "cell_type": "code",
   "execution_count": 118,
   "id": "2ae261a9",
   "metadata": {},
   "outputs": [],
   "source": [
    "cust_claim['claim_amount'] = cust_claim['claim_amount'].astype('float64')"
   ]
  },
  {
   "cell_type": "code",
   "execution_count": 119,
   "id": "a2c41b2a",
   "metadata": {},
   "outputs": [],
   "source": [
    "cust_claim['claim_amount'] = pd.to_numeric(cust_claim['claim_amount'])"
   ]
  },
  {
   "cell_type": "code",
   "execution_count": 120,
   "id": "b78a1a91",
   "metadata": {},
   "outputs": [
    {
     "name": "stdout",
     "output_type": "stream",
     "text": [
      "<class 'pandas.core.frame.DataFrame'>\n",
      "Int64Index: 1085 entries, 0 to 1084\n",
      "Data columns (total 16 columns):\n",
      " #   Column               Non-Null Count  Dtype         \n",
      "---  ------               --------------  -----         \n",
      " 0   CUST_ID              1085 non-null   int64         \n",
      " 1   gender               1085 non-null   object        \n",
      " 2   DateOfBirth          1085 non-null   datetime64[ns]\n",
      " 3   State                1085 non-null   object        \n",
      " 4   Contact              1085 non-null   object        \n",
      " 5   Segment              1085 non-null   object        \n",
      " 6   claim_id             1085 non-null   int64         \n",
      " 7   customer_id          1085 non-null   int64         \n",
      " 8   incident_cause       1085 non-null   object        \n",
      " 9   claim_date           1085 non-null   datetime64[ns]\n",
      " 10  claim_area           1085 non-null   object        \n",
      " 11  police_report        1085 non-null   object        \n",
      " 12  claim_type           1085 non-null   object        \n",
      " 13  claim_amount         1020 non-null   float64       \n",
      " 14  total_policy_claims  1075 non-null   float64       \n",
      " 15  fraudulent           1085 non-null   object        \n",
      "dtypes: datetime64[ns](2), float64(2), int64(3), object(9)\n",
      "memory usage: 144.1+ KB\n"
     ]
    }
   ],
   "source": [
    "cust_claim.info()"
   ]
  },
  {
   "cell_type": "markdown",
   "id": "098fb68c",
   "metadata": {},
   "source": [
    "### 4. Of all the injury claims, some of them have gone unreported with the police. Create an alert flag (1,0) for all such claims.\n"
   ]
  },
  {
   "cell_type": "code",
   "execution_count": 121,
   "id": "cc3ba789",
   "metadata": {},
   "outputs": [
    {
     "data": {
      "text/html": [
       "<div>\n",
       "<style scoped>\n",
       "    .dataframe tbody tr th:only-of-type {\n",
       "        vertical-align: middle;\n",
       "    }\n",
       "\n",
       "    .dataframe tbody tr th {\n",
       "        vertical-align: top;\n",
       "    }\n",
       "\n",
       "    .dataframe thead th {\n",
       "        text-align: right;\n",
       "    }\n",
       "</style>\n",
       "<table border=\"1\" class=\"dataframe\">\n",
       "  <thead>\n",
       "    <tr style=\"text-align: right;\">\n",
       "      <th></th>\n",
       "      <th>CUST_ID</th>\n",
       "      <th>gender</th>\n",
       "      <th>DateOfBirth</th>\n",
       "      <th>State</th>\n",
       "      <th>Contact</th>\n",
       "      <th>Segment</th>\n",
       "      <th>claim_id</th>\n",
       "      <th>customer_id</th>\n",
       "      <th>incident_cause</th>\n",
       "      <th>claim_date</th>\n",
       "      <th>claim_area</th>\n",
       "      <th>police_report</th>\n",
       "      <th>claim_type</th>\n",
       "      <th>claim_amount</th>\n",
       "      <th>total_policy_claims</th>\n",
       "      <th>fraudulent</th>\n",
       "      <th>unreported_claims</th>\n",
       "    </tr>\n",
       "  </thead>\n",
       "  <tbody>\n",
       "    <tr>\n",
       "      <th>0</th>\n",
       "      <td>21868593</td>\n",
       "      <td>Female</td>\n",
       "      <td>1979-01-12</td>\n",
       "      <td>VT</td>\n",
       "      <td>789-916-8172</td>\n",
       "      <td>Platinum</td>\n",
       "      <td>54004764</td>\n",
       "      <td>21868593</td>\n",
       "      <td>Driver error</td>\n",
       "      <td>2017-11-27</td>\n",
       "      <td>Auto</td>\n",
       "      <td>No</td>\n",
       "      <td>Material only</td>\n",
       "      <td>2980.0</td>\n",
       "      <td>1.0</td>\n",
       "      <td>No</td>\n",
       "      <td>1</td>\n",
       "    </tr>\n",
       "    <tr>\n",
       "      <th>1</th>\n",
       "      <td>75740424</td>\n",
       "      <td>Female</td>\n",
       "      <td>2070-01-13</td>\n",
       "      <td>ME</td>\n",
       "      <td>265-543-1264</td>\n",
       "      <td>Silver</td>\n",
       "      <td>33985796</td>\n",
       "      <td>75740424</td>\n",
       "      <td>Crime</td>\n",
       "      <td>2018-10-03</td>\n",
       "      <td>Home</td>\n",
       "      <td>Unknown</td>\n",
       "      <td>Material only</td>\n",
       "      <td>2980.0</td>\n",
       "      <td>3.0</td>\n",
       "      <td>No</td>\n",
       "      <td>1</td>\n",
       "    </tr>\n",
       "    <tr>\n",
       "      <th>2</th>\n",
       "      <td>30308357</td>\n",
       "      <td>Female</td>\n",
       "      <td>1984-03-11</td>\n",
       "      <td>TN</td>\n",
       "      <td>798-631-4758</td>\n",
       "      <td>Silver</td>\n",
       "      <td>53522022</td>\n",
       "      <td>30308357</td>\n",
       "      <td>Other driver error</td>\n",
       "      <td>2018-02-02</td>\n",
       "      <td>Auto</td>\n",
       "      <td>No</td>\n",
       "      <td>Material only</td>\n",
       "      <td>3369.5</td>\n",
       "      <td>1.0</td>\n",
       "      <td>Yes</td>\n",
       "      <td>1</td>\n",
       "    </tr>\n",
       "    <tr>\n",
       "      <th>3</th>\n",
       "      <td>30308357</td>\n",
       "      <td>Female</td>\n",
       "      <td>1984-03-11</td>\n",
       "      <td>TN</td>\n",
       "      <td>798-631-4758</td>\n",
       "      <td>Silver</td>\n",
       "      <td>63017412</td>\n",
       "      <td>30308357</td>\n",
       "      <td>Driver error</td>\n",
       "      <td>2018-04-04</td>\n",
       "      <td>Auto</td>\n",
       "      <td>No</td>\n",
       "      <td>Material only</td>\n",
       "      <td>1950.0</td>\n",
       "      <td>6.0</td>\n",
       "      <td>No</td>\n",
       "      <td>1</td>\n",
       "    </tr>\n",
       "    <tr>\n",
       "      <th>4</th>\n",
       "      <td>47830476</td>\n",
       "      <td>Female</td>\n",
       "      <td>1986-05-01</td>\n",
       "      <td>MA</td>\n",
       "      <td>413-187-7945</td>\n",
       "      <td>Silver</td>\n",
       "      <td>13015401</td>\n",
       "      <td>47830476</td>\n",
       "      <td>Natural causes</td>\n",
       "      <td>2018-06-17</td>\n",
       "      <td>Auto</td>\n",
       "      <td>No</td>\n",
       "      <td>Material only</td>\n",
       "      <td>1680.0</td>\n",
       "      <td>1.0</td>\n",
       "      <td>No</td>\n",
       "      <td>1</td>\n",
       "    </tr>\n",
       "  </tbody>\n",
       "</table>\n",
       "</div>"
      ],
      "text/plain": [
       "    CUST_ID  gender DateOfBirth State       Contact   Segment  claim_id  \\\n",
       "0  21868593  Female  1979-01-12    VT  789-916-8172  Platinum  54004764   \n",
       "1  75740424  Female  2070-01-13    ME  265-543-1264    Silver  33985796   \n",
       "2  30308357  Female  1984-03-11    TN  798-631-4758    Silver  53522022   \n",
       "3  30308357  Female  1984-03-11    TN  798-631-4758    Silver  63017412   \n",
       "4  47830476  Female  1986-05-01    MA  413-187-7945    Silver  13015401   \n",
       "\n",
       "   customer_id      incident_cause claim_date claim_area police_report  \\\n",
       "0     21868593        Driver error 2017-11-27       Auto            No   \n",
       "1     75740424               Crime 2018-10-03       Home       Unknown   \n",
       "2     30308357  Other driver error 2018-02-02       Auto            No   \n",
       "3     30308357        Driver error 2018-04-04       Auto            No   \n",
       "4     47830476      Natural causes 2018-06-17       Auto            No   \n",
       "\n",
       "      claim_type  claim_amount  total_policy_claims fraudulent  \\\n",
       "0  Material only        2980.0                  1.0         No   \n",
       "1  Material only        2980.0                  3.0         No   \n",
       "2  Material only        3369.5                  1.0        Yes   \n",
       "3  Material only        1950.0                  6.0         No   \n",
       "4  Material only        1680.0                  1.0         No   \n",
       "\n",
       "   unreported_claims  \n",
       "0                  1  \n",
       "1                  1  \n",
       "2                  1  \n",
       "3                  1  \n",
       "4                  1  "
      ]
     },
     "execution_count": 121,
     "metadata": {},
     "output_type": "execute_result"
    }
   ],
   "source": [
    "cust_claim['unreported_claims']=np.where(cust_claim.police_report=='Unknown',1,(cust_claim.police_report=='No'))\n",
    "cust_claim.head()"
   ]
  },
  {
   "cell_type": "markdown",
   "id": "a43a1aa6",
   "metadata": {},
   "source": [
    "### 5. One customer can claim for insurance more than once and in each claim,multiple categories of claims can be involved. However, customer ID should remain unique. Retain the most recent observation and delete any duplicated records in the data based on the customer ID column."
   ]
  },
  {
   "cell_type": "code",
   "execution_count": 122,
   "id": "67a416a8",
   "metadata": {},
   "outputs": [
    {
     "data": {
      "text/html": [
       "<div>\n",
       "<style scoped>\n",
       "    .dataframe tbody tr th:only-of-type {\n",
       "        vertical-align: middle;\n",
       "    }\n",
       "\n",
       "    .dataframe tbody tr th {\n",
       "        vertical-align: top;\n",
       "    }\n",
       "\n",
       "    .dataframe thead th {\n",
       "        text-align: right;\n",
       "    }\n",
       "</style>\n",
       "<table border=\"1\" class=\"dataframe\">\n",
       "  <thead>\n",
       "    <tr style=\"text-align: right;\">\n",
       "      <th></th>\n",
       "      <th>CUST_ID</th>\n",
       "      <th>gender</th>\n",
       "      <th>DateOfBirth</th>\n",
       "      <th>State</th>\n",
       "      <th>Contact</th>\n",
       "      <th>Segment</th>\n",
       "      <th>claim_id</th>\n",
       "      <th>customer_id</th>\n",
       "      <th>incident_cause</th>\n",
       "      <th>claim_date</th>\n",
       "      <th>claim_area</th>\n",
       "      <th>police_report</th>\n",
       "      <th>claim_type</th>\n",
       "      <th>claim_amount</th>\n",
       "      <th>total_policy_claims</th>\n",
       "      <th>fraudulent</th>\n",
       "      <th>unreported_claims</th>\n",
       "    </tr>\n",
       "  </thead>\n",
       "  <tbody>\n",
       "    <tr>\n",
       "      <th>0</th>\n",
       "      <td>21868593</td>\n",
       "      <td>Female</td>\n",
       "      <td>1979-01-12</td>\n",
       "      <td>VT</td>\n",
       "      <td>789-916-8172</td>\n",
       "      <td>Platinum</td>\n",
       "      <td>54004764</td>\n",
       "      <td>21868593</td>\n",
       "      <td>Driver error</td>\n",
       "      <td>2017-11-27</td>\n",
       "      <td>Auto</td>\n",
       "      <td>No</td>\n",
       "      <td>Material only</td>\n",
       "      <td>2980.0</td>\n",
       "      <td>1.0</td>\n",
       "      <td>No</td>\n",
       "      <td>1</td>\n",
       "    </tr>\n",
       "    <tr>\n",
       "      <th>1</th>\n",
       "      <td>75740424</td>\n",
       "      <td>Female</td>\n",
       "      <td>2070-01-13</td>\n",
       "      <td>ME</td>\n",
       "      <td>265-543-1264</td>\n",
       "      <td>Silver</td>\n",
       "      <td>33985796</td>\n",
       "      <td>75740424</td>\n",
       "      <td>Crime</td>\n",
       "      <td>2018-10-03</td>\n",
       "      <td>Home</td>\n",
       "      <td>Unknown</td>\n",
       "      <td>Material only</td>\n",
       "      <td>2980.0</td>\n",
       "      <td>3.0</td>\n",
       "      <td>No</td>\n",
       "      <td>1</td>\n",
       "    </tr>\n",
       "    <tr>\n",
       "      <th>2</th>\n",
       "      <td>30308357</td>\n",
       "      <td>Female</td>\n",
       "      <td>1984-03-11</td>\n",
       "      <td>TN</td>\n",
       "      <td>798-631-4758</td>\n",
       "      <td>Silver</td>\n",
       "      <td>53522022</td>\n",
       "      <td>30308357</td>\n",
       "      <td>Other driver error</td>\n",
       "      <td>2018-02-02</td>\n",
       "      <td>Auto</td>\n",
       "      <td>No</td>\n",
       "      <td>Material only</td>\n",
       "      <td>3369.5</td>\n",
       "      <td>1.0</td>\n",
       "      <td>Yes</td>\n",
       "      <td>1</td>\n",
       "    </tr>\n",
       "    <tr>\n",
       "      <th>4</th>\n",
       "      <td>47830476</td>\n",
       "      <td>Female</td>\n",
       "      <td>1986-05-01</td>\n",
       "      <td>MA</td>\n",
       "      <td>413-187-7945</td>\n",
       "      <td>Silver</td>\n",
       "      <td>13015401</td>\n",
       "      <td>47830476</td>\n",
       "      <td>Natural causes</td>\n",
       "      <td>2018-06-17</td>\n",
       "      <td>Auto</td>\n",
       "      <td>No</td>\n",
       "      <td>Material only</td>\n",
       "      <td>1680.0</td>\n",
       "      <td>1.0</td>\n",
       "      <td>No</td>\n",
       "      <td>1</td>\n",
       "    </tr>\n",
       "    <tr>\n",
       "      <th>6</th>\n",
       "      <td>19269962</td>\n",
       "      <td>Male</td>\n",
       "      <td>1977-05-13</td>\n",
       "      <td>NV</td>\n",
       "      <td>956-871-8691</td>\n",
       "      <td>Gold</td>\n",
       "      <td>22890252</td>\n",
       "      <td>19269962</td>\n",
       "      <td>Crime</td>\n",
       "      <td>2018-01-13</td>\n",
       "      <td>Auto</td>\n",
       "      <td>No</td>\n",
       "      <td>Material only</td>\n",
       "      <td>2680.0</td>\n",
       "      <td>1.0</td>\n",
       "      <td>No</td>\n",
       "      <td>1</td>\n",
       "    </tr>\n",
       "    <tr>\n",
       "      <th>...</th>\n",
       "      <td>...</td>\n",
       "      <td>...</td>\n",
       "      <td>...</td>\n",
       "      <td>...</td>\n",
       "      <td>...</td>\n",
       "      <td>...</td>\n",
       "      <td>...</td>\n",
       "      <td>...</td>\n",
       "      <td>...</td>\n",
       "      <td>...</td>\n",
       "      <td>...</td>\n",
       "      <td>...</td>\n",
       "      <td>...</td>\n",
       "      <td>...</td>\n",
       "      <td>...</td>\n",
       "      <td>...</td>\n",
       "      <td>...</td>\n",
       "    </tr>\n",
       "    <tr>\n",
       "      <th>1080</th>\n",
       "      <td>79539873</td>\n",
       "      <td>Female</td>\n",
       "      <td>1981-03-15</td>\n",
       "      <td>ND</td>\n",
       "      <td>459-425-4319</td>\n",
       "      <td>Platinum</td>\n",
       "      <td>62020796</td>\n",
       "      <td>79539873</td>\n",
       "      <td>Other driver error</td>\n",
       "      <td>2018-09-06</td>\n",
       "      <td>Auto</td>\n",
       "      <td>Yes</td>\n",
       "      <td>Material only</td>\n",
       "      <td>1770.0</td>\n",
       "      <td>1.0</td>\n",
       "      <td>No</td>\n",
       "      <td>0</td>\n",
       "    </tr>\n",
       "    <tr>\n",
       "      <th>1081</th>\n",
       "      <td>42364152</td>\n",
       "      <td>Female</td>\n",
       "      <td>1996-07-07</td>\n",
       "      <td>ID</td>\n",
       "      <td>529-462-1635</td>\n",
       "      <td>Silver</td>\n",
       "      <td>63269067</td>\n",
       "      <td>42364152</td>\n",
       "      <td>Other causes</td>\n",
       "      <td>2017-05-09</td>\n",
       "      <td>Home</td>\n",
       "      <td>No</td>\n",
       "      <td>Material only</td>\n",
       "      <td>2800.0</td>\n",
       "      <td>1.0</td>\n",
       "      <td>No</td>\n",
       "      <td>1</td>\n",
       "    </tr>\n",
       "    <tr>\n",
       "      <th>1082</th>\n",
       "      <td>19888166</td>\n",
       "      <td>Male</td>\n",
       "      <td>1990-04-11</td>\n",
       "      <td>WI</td>\n",
       "      <td>712-651-9613</td>\n",
       "      <td>Gold</td>\n",
       "      <td>22690595</td>\n",
       "      <td>19888166</td>\n",
       "      <td>Other driver error</td>\n",
       "      <td>2017-05-15</td>\n",
       "      <td>Auto</td>\n",
       "      <td>Yes</td>\n",
       "      <td>Injury only</td>\n",
       "      <td>33080.0</td>\n",
       "      <td>2.0</td>\n",
       "      <td>No</td>\n",
       "      <td>0</td>\n",
       "    </tr>\n",
       "    <tr>\n",
       "      <th>1083</th>\n",
       "      <td>11256802</td>\n",
       "      <td>Female</td>\n",
       "      <td>2064-10-22</td>\n",
       "      <td>LA</td>\n",
       "      <td>469-345-5617</td>\n",
       "      <td>Silver</td>\n",
       "      <td>12376894</td>\n",
       "      <td>11256802</td>\n",
       "      <td>Other driver error</td>\n",
       "      <td>2017-04-18</td>\n",
       "      <td>Auto</td>\n",
       "      <td>No</td>\n",
       "      <td>Material only</td>\n",
       "      <td>2840.0</td>\n",
       "      <td>4.0</td>\n",
       "      <td>No</td>\n",
       "      <td>1</td>\n",
       "    </tr>\n",
       "    <tr>\n",
       "      <th>1084</th>\n",
       "      <td>61575264</td>\n",
       "      <td>Male</td>\n",
       "      <td>1995-07-12</td>\n",
       "      <td>WY</td>\n",
       "      <td>182-385-1392</td>\n",
       "      <td>Gold</td>\n",
       "      <td>63226031</td>\n",
       "      <td>61575264</td>\n",
       "      <td>Natural causes</td>\n",
       "      <td>2017-03-16</td>\n",
       "      <td>Auto</td>\n",
       "      <td>No</td>\n",
       "      <td>Material only</td>\n",
       "      <td>1490.0</td>\n",
       "      <td>1.0</td>\n",
       "      <td>No</td>\n",
       "      <td>1</td>\n",
       "    </tr>\n",
       "  </tbody>\n",
       "</table>\n",
       "<p>1078 rows × 17 columns</p>\n",
       "</div>"
      ],
      "text/plain": [
       "       CUST_ID  gender DateOfBirth State       Contact   Segment  claim_id  \\\n",
       "0     21868593  Female  1979-01-12    VT  789-916-8172  Platinum  54004764   \n",
       "1     75740424  Female  2070-01-13    ME  265-543-1264    Silver  33985796   \n",
       "2     30308357  Female  1984-03-11    TN  798-631-4758    Silver  53522022   \n",
       "4     47830476  Female  1986-05-01    MA  413-187-7945    Silver  13015401   \n",
       "6     19269962    Male  1977-05-13    NV  956-871-8691      Gold  22890252   \n",
       "...        ...     ...         ...   ...           ...       ...       ...   \n",
       "1080  79539873  Female  1981-03-15    ND  459-425-4319  Platinum  62020796   \n",
       "1081  42364152  Female  1996-07-07    ID  529-462-1635    Silver  63269067   \n",
       "1082  19888166    Male  1990-04-11    WI  712-651-9613      Gold  22690595   \n",
       "1083  11256802  Female  2064-10-22    LA  469-345-5617    Silver  12376894   \n",
       "1084  61575264    Male  1995-07-12    WY  182-385-1392      Gold  63226031   \n",
       "\n",
       "      customer_id      incident_cause claim_date claim_area police_report  \\\n",
       "0        21868593        Driver error 2017-11-27       Auto            No   \n",
       "1        75740424               Crime 2018-10-03       Home       Unknown   \n",
       "2        30308357  Other driver error 2018-02-02       Auto            No   \n",
       "4        47830476      Natural causes 2018-06-17       Auto            No   \n",
       "6        19269962               Crime 2018-01-13       Auto            No   \n",
       "...           ...                 ...        ...        ...           ...   \n",
       "1080     79539873  Other driver error 2018-09-06       Auto           Yes   \n",
       "1081     42364152        Other causes 2017-05-09       Home            No   \n",
       "1082     19888166  Other driver error 2017-05-15       Auto           Yes   \n",
       "1083     11256802  Other driver error 2017-04-18       Auto            No   \n",
       "1084     61575264      Natural causes 2017-03-16       Auto            No   \n",
       "\n",
       "         claim_type  claim_amount  total_policy_claims fraudulent  \\\n",
       "0     Material only        2980.0                  1.0         No   \n",
       "1     Material only        2980.0                  3.0         No   \n",
       "2     Material only        3369.5                  1.0        Yes   \n",
       "4     Material only        1680.0                  1.0         No   \n",
       "6     Material only        2680.0                  1.0         No   \n",
       "...             ...           ...                  ...        ...   \n",
       "1080  Material only        1770.0                  1.0         No   \n",
       "1081  Material only        2800.0                  1.0         No   \n",
       "1082    Injury only       33080.0                  2.0         No   \n",
       "1083  Material only        2840.0                  4.0         No   \n",
       "1084  Material only        1490.0                  1.0         No   \n",
       "\n",
       "      unreported_claims  \n",
       "0                     1  \n",
       "1                     1  \n",
       "2                     1  \n",
       "4                     1  \n",
       "6                     1  \n",
       "...                 ...  \n",
       "1080                  0  \n",
       "1081                  1  \n",
       "1082                  0  \n",
       "1083                  1  \n",
       "1084                  1  \n",
       "\n",
       "[1078 rows x 17 columns]"
      ]
     },
     "execution_count": 122,
     "metadata": {},
     "output_type": "execute_result"
    }
   ],
   "source": [
    "cust_claim=cust_claim.drop_duplicates(subset='customer_id')\n",
    "cust_claim                             "
   ]
  },
  {
   "cell_type": "markdown",
   "id": "2a2fc81b",
   "metadata": {},
   "source": [
    "### 6. Check for missing values and impute the missing values with an appropriate value. (mean for continuous and mode for categorical)\n"
   ]
  },
  {
   "cell_type": "code",
   "execution_count": 124,
   "id": "d3a30885",
   "metadata": {},
   "outputs": [
    {
     "data": {
      "text/plain": [
       "0"
      ]
     },
     "execution_count": 124,
     "metadata": {},
     "output_type": "execute_result"
    }
   ],
   "source": [
    "cust_claim['claim_amount']=cust_claim['claim_amount'].replace(np.NaN,cust_claim['claim_amount'].mean())\n",
    "cust_claim['claim_amount'].isna().sum()"
   ]
  },
  {
   "cell_type": "code",
   "execution_count": 128,
   "id": "7190a7d4",
   "metadata": {},
   "outputs": [
    {
     "data": {
      "text/plain": [
       "0"
      ]
     },
     "execution_count": 128,
     "metadata": {},
     "output_type": "execute_result"
    }
   ],
   "source": [
    "cust_claim['total_policy_claims']=cust_claim['total_policy_claims'].replace(np.NaN,cust_claim['total_policy_claims'].mean())\n",
    "cust_claim['total_policy_claims'].isna().sum()"
   ]
  },
  {
   "cell_type": "markdown",
   "id": "f3d7d34f",
   "metadata": {},
   "source": [
    "### 7. Calculate the age of customers in years. Based on the age, categorize the customers according to the below criteria \n",
    "##### Children < 18\n",
    "##### Youth 18-30\n",
    "##### Adult 30-60\n",
    "##### Senior > 60"
   ]
  },
  {
   "cell_type": "code",
   "execution_count": 135,
   "id": "3988b8a0",
   "metadata": {},
   "outputs": [
    {
     "data": {
      "text/html": [
       "<div>\n",
       "<style scoped>\n",
       "    .dataframe tbody tr th:only-of-type {\n",
       "        vertical-align: middle;\n",
       "    }\n",
       "\n",
       "    .dataframe tbody tr th {\n",
       "        vertical-align: top;\n",
       "    }\n",
       "\n",
       "    .dataframe thead th {\n",
       "        text-align: right;\n",
       "    }\n",
       "</style>\n",
       "<table border=\"1\" class=\"dataframe\">\n",
       "  <thead>\n",
       "    <tr style=\"text-align: right;\">\n",
       "      <th></th>\n",
       "      <th>CUST_ID</th>\n",
       "      <th>gender</th>\n",
       "      <th>DateOfBirth</th>\n",
       "      <th>State</th>\n",
       "      <th>Contact</th>\n",
       "      <th>Segment</th>\n",
       "      <th>claim_id</th>\n",
       "      <th>customer_id</th>\n",
       "      <th>incident_cause</th>\n",
       "      <th>claim_date</th>\n",
       "      <th>claim_area</th>\n",
       "      <th>police_report</th>\n",
       "      <th>claim_type</th>\n",
       "      <th>claim_amount</th>\n",
       "      <th>total_policy_claims</th>\n",
       "      <th>fraudulent</th>\n",
       "      <th>unreported_claims</th>\n",
       "      <th>Age</th>\n",
       "      <th>Age_Group</th>\n",
       "    </tr>\n",
       "  </thead>\n",
       "  <tbody>\n",
       "    <tr>\n",
       "      <th>0</th>\n",
       "      <td>21868593</td>\n",
       "      <td>Female</td>\n",
       "      <td>1979-01-12</td>\n",
       "      <td>VT</td>\n",
       "      <td>789-916-8172</td>\n",
       "      <td>Platinum</td>\n",
       "      <td>54004764</td>\n",
       "      <td>21868593</td>\n",
       "      <td>Driver error</td>\n",
       "      <td>2017-11-27</td>\n",
       "      <td>Auto</td>\n",
       "      <td>No</td>\n",
       "      <td>Material only</td>\n",
       "      <td>2980.0</td>\n",
       "      <td>1.0</td>\n",
       "      <td>No</td>\n",
       "      <td>1</td>\n",
       "      <td>38</td>\n",
       "      <td>Adult</td>\n",
       "    </tr>\n",
       "    <tr>\n",
       "      <th>1</th>\n",
       "      <td>75740424</td>\n",
       "      <td>Female</td>\n",
       "      <td>1970-01-13</td>\n",
       "      <td>ME</td>\n",
       "      <td>265-543-1264</td>\n",
       "      <td>Silver</td>\n",
       "      <td>33985796</td>\n",
       "      <td>75740424</td>\n",
       "      <td>Crime</td>\n",
       "      <td>2018-10-03</td>\n",
       "      <td>Home</td>\n",
       "      <td>Unknown</td>\n",
       "      <td>Material only</td>\n",
       "      <td>2980.0</td>\n",
       "      <td>3.0</td>\n",
       "      <td>No</td>\n",
       "      <td>1</td>\n",
       "      <td>48</td>\n",
       "      <td>Adult</td>\n",
       "    </tr>\n",
       "    <tr>\n",
       "      <th>2</th>\n",
       "      <td>30308357</td>\n",
       "      <td>Female</td>\n",
       "      <td>1984-03-11</td>\n",
       "      <td>TN</td>\n",
       "      <td>798-631-4758</td>\n",
       "      <td>Silver</td>\n",
       "      <td>53522022</td>\n",
       "      <td>30308357</td>\n",
       "      <td>Other driver error</td>\n",
       "      <td>2018-02-02</td>\n",
       "      <td>Auto</td>\n",
       "      <td>No</td>\n",
       "      <td>Material only</td>\n",
       "      <td>3369.5</td>\n",
       "      <td>1.0</td>\n",
       "      <td>Yes</td>\n",
       "      <td>1</td>\n",
       "      <td>34</td>\n",
       "      <td>Adult</td>\n",
       "    </tr>\n",
       "    <tr>\n",
       "      <th>4</th>\n",
       "      <td>47830476</td>\n",
       "      <td>Female</td>\n",
       "      <td>1986-05-01</td>\n",
       "      <td>MA</td>\n",
       "      <td>413-187-7945</td>\n",
       "      <td>Silver</td>\n",
       "      <td>13015401</td>\n",
       "      <td>47830476</td>\n",
       "      <td>Natural causes</td>\n",
       "      <td>2018-06-17</td>\n",
       "      <td>Auto</td>\n",
       "      <td>No</td>\n",
       "      <td>Material only</td>\n",
       "      <td>1680.0</td>\n",
       "      <td>1.0</td>\n",
       "      <td>No</td>\n",
       "      <td>1</td>\n",
       "      <td>32</td>\n",
       "      <td>Adult</td>\n",
       "    </tr>\n",
       "    <tr>\n",
       "      <th>6</th>\n",
       "      <td>19269962</td>\n",
       "      <td>Male</td>\n",
       "      <td>1977-05-13</td>\n",
       "      <td>NV</td>\n",
       "      <td>956-871-8691</td>\n",
       "      <td>Gold</td>\n",
       "      <td>22890252</td>\n",
       "      <td>19269962</td>\n",
       "      <td>Crime</td>\n",
       "      <td>2018-01-13</td>\n",
       "      <td>Auto</td>\n",
       "      <td>No</td>\n",
       "      <td>Material only</td>\n",
       "      <td>2680.0</td>\n",
       "      <td>1.0</td>\n",
       "      <td>No</td>\n",
       "      <td>1</td>\n",
       "      <td>41</td>\n",
       "      <td>Adult</td>\n",
       "    </tr>\n",
       "    <tr>\n",
       "      <th>...</th>\n",
       "      <td>...</td>\n",
       "      <td>...</td>\n",
       "      <td>...</td>\n",
       "      <td>...</td>\n",
       "      <td>...</td>\n",
       "      <td>...</td>\n",
       "      <td>...</td>\n",
       "      <td>...</td>\n",
       "      <td>...</td>\n",
       "      <td>...</td>\n",
       "      <td>...</td>\n",
       "      <td>...</td>\n",
       "      <td>...</td>\n",
       "      <td>...</td>\n",
       "      <td>...</td>\n",
       "      <td>...</td>\n",
       "      <td>...</td>\n",
       "      <td>...</td>\n",
       "      <td>...</td>\n",
       "    </tr>\n",
       "    <tr>\n",
       "      <th>1080</th>\n",
       "      <td>79539873</td>\n",
       "      <td>Female</td>\n",
       "      <td>1981-03-15</td>\n",
       "      <td>ND</td>\n",
       "      <td>459-425-4319</td>\n",
       "      <td>Platinum</td>\n",
       "      <td>62020796</td>\n",
       "      <td>79539873</td>\n",
       "      <td>Other driver error</td>\n",
       "      <td>2018-09-06</td>\n",
       "      <td>Auto</td>\n",
       "      <td>Yes</td>\n",
       "      <td>Material only</td>\n",
       "      <td>1770.0</td>\n",
       "      <td>1.0</td>\n",
       "      <td>No</td>\n",
       "      <td>0</td>\n",
       "      <td>37</td>\n",
       "      <td>Adult</td>\n",
       "    </tr>\n",
       "    <tr>\n",
       "      <th>1081</th>\n",
       "      <td>42364152</td>\n",
       "      <td>Female</td>\n",
       "      <td>1996-07-07</td>\n",
       "      <td>ID</td>\n",
       "      <td>529-462-1635</td>\n",
       "      <td>Silver</td>\n",
       "      <td>63269067</td>\n",
       "      <td>42364152</td>\n",
       "      <td>Other causes</td>\n",
       "      <td>2017-05-09</td>\n",
       "      <td>Home</td>\n",
       "      <td>No</td>\n",
       "      <td>Material only</td>\n",
       "      <td>2800.0</td>\n",
       "      <td>1.0</td>\n",
       "      <td>No</td>\n",
       "      <td>1</td>\n",
       "      <td>21</td>\n",
       "      <td>Youth</td>\n",
       "    </tr>\n",
       "    <tr>\n",
       "      <th>1082</th>\n",
       "      <td>19888166</td>\n",
       "      <td>Male</td>\n",
       "      <td>1990-04-11</td>\n",
       "      <td>WI</td>\n",
       "      <td>712-651-9613</td>\n",
       "      <td>Gold</td>\n",
       "      <td>22690595</td>\n",
       "      <td>19888166</td>\n",
       "      <td>Other driver error</td>\n",
       "      <td>2017-05-15</td>\n",
       "      <td>Auto</td>\n",
       "      <td>Yes</td>\n",
       "      <td>Injury only</td>\n",
       "      <td>33080.0</td>\n",
       "      <td>2.0</td>\n",
       "      <td>No</td>\n",
       "      <td>0</td>\n",
       "      <td>27</td>\n",
       "      <td>Youth</td>\n",
       "    </tr>\n",
       "    <tr>\n",
       "      <th>1083</th>\n",
       "      <td>11256802</td>\n",
       "      <td>Female</td>\n",
       "      <td>1964-10-22</td>\n",
       "      <td>LA</td>\n",
       "      <td>469-345-5617</td>\n",
       "      <td>Silver</td>\n",
       "      <td>12376894</td>\n",
       "      <td>11256802</td>\n",
       "      <td>Other driver error</td>\n",
       "      <td>2017-04-18</td>\n",
       "      <td>Auto</td>\n",
       "      <td>No</td>\n",
       "      <td>Material only</td>\n",
       "      <td>2840.0</td>\n",
       "      <td>4.0</td>\n",
       "      <td>No</td>\n",
       "      <td>1</td>\n",
       "      <td>53</td>\n",
       "      <td>Adult</td>\n",
       "    </tr>\n",
       "    <tr>\n",
       "      <th>1084</th>\n",
       "      <td>61575264</td>\n",
       "      <td>Male</td>\n",
       "      <td>1995-07-12</td>\n",
       "      <td>WY</td>\n",
       "      <td>182-385-1392</td>\n",
       "      <td>Gold</td>\n",
       "      <td>63226031</td>\n",
       "      <td>61575264</td>\n",
       "      <td>Natural causes</td>\n",
       "      <td>2017-03-16</td>\n",
       "      <td>Auto</td>\n",
       "      <td>No</td>\n",
       "      <td>Material only</td>\n",
       "      <td>1490.0</td>\n",
       "      <td>1.0</td>\n",
       "      <td>No</td>\n",
       "      <td>1</td>\n",
       "      <td>22</td>\n",
       "      <td>Youth</td>\n",
       "    </tr>\n",
       "  </tbody>\n",
       "</table>\n",
       "<p>1078 rows × 19 columns</p>\n",
       "</div>"
      ],
      "text/plain": [
       "       CUST_ID  gender DateOfBirth State       Contact   Segment  claim_id  \\\n",
       "0     21868593  Female  1979-01-12    VT  789-916-8172  Platinum  54004764   \n",
       "1     75740424  Female  1970-01-13    ME  265-543-1264    Silver  33985796   \n",
       "2     30308357  Female  1984-03-11    TN  798-631-4758    Silver  53522022   \n",
       "4     47830476  Female  1986-05-01    MA  413-187-7945    Silver  13015401   \n",
       "6     19269962    Male  1977-05-13    NV  956-871-8691      Gold  22890252   \n",
       "...        ...     ...         ...   ...           ...       ...       ...   \n",
       "1080  79539873  Female  1981-03-15    ND  459-425-4319  Platinum  62020796   \n",
       "1081  42364152  Female  1996-07-07    ID  529-462-1635    Silver  63269067   \n",
       "1082  19888166    Male  1990-04-11    WI  712-651-9613      Gold  22690595   \n",
       "1083  11256802  Female  1964-10-22    LA  469-345-5617    Silver  12376894   \n",
       "1084  61575264    Male  1995-07-12    WY  182-385-1392      Gold  63226031   \n",
       "\n",
       "      customer_id      incident_cause claim_date claim_area police_report  \\\n",
       "0        21868593        Driver error 2017-11-27       Auto            No   \n",
       "1        75740424               Crime 2018-10-03       Home       Unknown   \n",
       "2        30308357  Other driver error 2018-02-02       Auto            No   \n",
       "4        47830476      Natural causes 2018-06-17       Auto            No   \n",
       "6        19269962               Crime 2018-01-13       Auto            No   \n",
       "...           ...                 ...        ...        ...           ...   \n",
       "1080     79539873  Other driver error 2018-09-06       Auto           Yes   \n",
       "1081     42364152        Other causes 2017-05-09       Home            No   \n",
       "1082     19888166  Other driver error 2017-05-15       Auto           Yes   \n",
       "1083     11256802  Other driver error 2017-04-18       Auto            No   \n",
       "1084     61575264      Natural causes 2017-03-16       Auto            No   \n",
       "\n",
       "         claim_type  claim_amount  total_policy_claims fraudulent  \\\n",
       "0     Material only        2980.0                  1.0         No   \n",
       "1     Material only        2980.0                  3.0         No   \n",
       "2     Material only        3369.5                  1.0        Yes   \n",
       "4     Material only        1680.0                  1.0         No   \n",
       "6     Material only        2680.0                  1.0         No   \n",
       "...             ...           ...                  ...        ...   \n",
       "1080  Material only        1770.0                  1.0         No   \n",
       "1081  Material only        2800.0                  1.0         No   \n",
       "1082    Injury only       33080.0                  2.0         No   \n",
       "1083  Material only        2840.0                  4.0         No   \n",
       "1084  Material only        1490.0                  1.0         No   \n",
       "\n",
       "      unreported_claims  Age Age_Group  \n",
       "0                     1   38     Adult  \n",
       "1                     1   48     Adult  \n",
       "2                     1   34     Adult  \n",
       "4                     1   32     Adult  \n",
       "6                     1   41     Adult  \n",
       "...                 ...  ...       ...  \n",
       "1080                  0   37     Adult  \n",
       "1081                  1   21     Youth  \n",
       "1082                  0   27     Youth  \n",
       "1083                  1   53     Adult  \n",
       "1084                  1   22     Youth  \n",
       "\n",
       "[1078 rows x 19 columns]"
      ]
     },
     "execution_count": 135,
     "metadata": {},
     "output_type": "execute_result"
    }
   ],
   "source": [
    "cust_claim.loc[(cust_claim.DateOfBirth.dt.year>2020),'DateOfBirth'] = cust_claim.loc[cust_claim.DateOfBirth.dt.year>2020]['DateOfBirth'].apply(lambda x : x-pd.DateOffset(years=100))\n",
    "cust_claim['Age'] = cust_claim.claim_date.dt.year - cust_claim.DateOfBirth.dt.year \n",
    "cust_claim.loc[(cust_claim.Age<18),'Age_Group']='Children'\n",
    "cust_claim.loc[(cust_claim.Age>=18)&(cust_claim.Age<30),'Age_Group']='Youth'\n",
    "cust_claim.loc[(cust_claim.Age>=30)&(cust_claim.Age<60),'Age_Group']='Adult'\n",
    "cust_claim.loc[cust_claim.Age>=60,'Age_Group']='Senior'\n",
    "cust_claim"
   ]
  },
  {
   "cell_type": "markdown",
   "id": "288a7805",
   "metadata": {},
   "source": [
    "### 8. What is the average amount claimed by the customers from various segments?\n"
   ]
  },
  {
   "cell_type": "code",
   "execution_count": 136,
   "id": "51756d37",
   "metadata": {},
   "outputs": [
    {
     "data": {
      "text/html": [
       "<div>\n",
       "<style scoped>\n",
       "    .dataframe tbody tr th:only-of-type {\n",
       "        vertical-align: middle;\n",
       "    }\n",
       "\n",
       "    .dataframe tbody tr th {\n",
       "        vertical-align: top;\n",
       "    }\n",
       "\n",
       "    .dataframe thead th {\n",
       "        text-align: right;\n",
       "    }\n",
       "</style>\n",
       "<table border=\"1\" class=\"dataframe\">\n",
       "  <thead>\n",
       "    <tr style=\"text-align: right;\">\n",
       "      <th></th>\n",
       "      <th>claim_amount</th>\n",
       "    </tr>\n",
       "    <tr>\n",
       "      <th>Segment</th>\n",
       "      <th></th>\n",
       "    </tr>\n",
       "  </thead>\n",
       "  <tbody>\n",
       "    <tr>\n",
       "      <th>Gold</th>\n",
       "      <td>12756.479697</td>\n",
       "    </tr>\n",
       "    <tr>\n",
       "      <th>Platinum</th>\n",
       "      <td>12369.304648</td>\n",
       "    </tr>\n",
       "    <tr>\n",
       "      <th>Silver</th>\n",
       "      <td>12269.434851</td>\n",
       "    </tr>\n",
       "  </tbody>\n",
       "</table>\n",
       "</div>"
      ],
      "text/plain": [
       "          claim_amount\n",
       "Segment               \n",
       "Gold      12756.479697\n",
       "Platinum  12369.304648\n",
       "Silver    12269.434851"
      ]
     },
     "execution_count": 136,
     "metadata": {},
     "output_type": "execute_result"
    }
   ],
   "source": [
    "average_amount_segment_wise=cust_claim.groupby('Segment')[['claim_amount']].mean()\n",
    "average_amount_segment_wise"
   ]
  },
  {
   "cell_type": "markdown",
   "id": "7a99775f",
   "metadata": {},
   "source": [
    "### 9. What is the total claim amount based on incident cause for all the claimsthat have been done at least 20 days prior to 1st of October, 2018.\n"
   ]
  },
  {
   "cell_type": "code",
   "execution_count": 144,
   "id": "70151ae4",
   "metadata": {},
   "outputs": [
    {
     "data": {
      "text/html": [
       "<div>\n",
       "<style scoped>\n",
       "    .dataframe tbody tr th:only-of-type {\n",
       "        vertical-align: middle;\n",
       "    }\n",
       "\n",
       "    .dataframe tbody tr th {\n",
       "        vertical-align: top;\n",
       "    }\n",
       "\n",
       "    .dataframe thead th {\n",
       "        text-align: right;\n",
       "    }\n",
       "</style>\n",
       "<table border=\"1\" class=\"dataframe\">\n",
       "  <thead>\n",
       "    <tr style=\"text-align: right;\">\n",
       "      <th></th>\n",
       "      <th>claim_amount</th>\n",
       "    </tr>\n",
       "    <tr>\n",
       "      <th>incident_cause</th>\n",
       "      <th></th>\n",
       "    </tr>\n",
       "  </thead>\n",
       "  <tbody>\n",
       "    <tr>\n",
       "      <th>Crime</th>\n",
       "      <td>724462.49</td>\n",
       "    </tr>\n",
       "    <tr>\n",
       "      <th>Driver error</th>\n",
       "      <td>3264285.98</td>\n",
       "    </tr>\n",
       "    <tr>\n",
       "      <th>Natural causes</th>\n",
       "      <td>1312705.99</td>\n",
       "    </tr>\n",
       "    <tr>\n",
       "      <th>Other causes</th>\n",
       "      <td>3725038.47</td>\n",
       "    </tr>\n",
       "    <tr>\n",
       "      <th>Other driver error</th>\n",
       "      <td>3318806.48</td>\n",
       "    </tr>\n",
       "  </tbody>\n",
       "</table>\n",
       "</div>"
      ],
      "text/plain": [
       "                    claim_amount\n",
       "incident_cause                  \n",
       "Crime                  724462.49\n",
       "Driver error          3264285.98\n",
       "Natural causes        1312705.99\n",
       "Other causes          3725038.47\n",
       "Other driver error    3318806.48"
      ]
     },
     "execution_count": 144,
     "metadata": {},
     "output_type": "execute_result"
    }
   ],
   "source": [
    "round(cust_claim.loc[cust_claim.claim_date < '2018-09-10'].groupby('incident_cause')[['claim_amount']].sum(),2)"
   ]
  },
  {
   "cell_type": "markdown",
   "id": "f3fa78b6",
   "metadata": {},
   "source": [
    "### 10. How many adults from TX, DE and AK claimed insurance for driver related issues and causes? "
   ]
  },
  {
   "cell_type": "code",
   "execution_count": 145,
   "id": "39ef46d0",
   "metadata": {},
   "outputs": [
    {
     "data": {
      "text/html": [
       "<div>\n",
       "<style scoped>\n",
       "    .dataframe tbody tr th:only-of-type {\n",
       "        vertical-align: middle;\n",
       "    }\n",
       "\n",
       "    .dataframe tbody tr th {\n",
       "        vertical-align: top;\n",
       "    }\n",
       "\n",
       "    .dataframe thead th {\n",
       "        text-align: right;\n",
       "    }\n",
       "</style>\n",
       "<table border=\"1\" class=\"dataframe\">\n",
       "  <thead>\n",
       "    <tr style=\"text-align: right;\">\n",
       "      <th></th>\n",
       "      <th>CUST_ID</th>\n",
       "    </tr>\n",
       "    <tr>\n",
       "      <th>State</th>\n",
       "      <th></th>\n",
       "    </tr>\n",
       "  </thead>\n",
       "  <tbody>\n",
       "    <tr>\n",
       "      <th>AK</th>\n",
       "      <td>8</td>\n",
       "    </tr>\n",
       "    <tr>\n",
       "      <th>DE</th>\n",
       "      <td>9</td>\n",
       "    </tr>\n",
       "    <tr>\n",
       "      <th>TX</th>\n",
       "      <td>7</td>\n",
       "    </tr>\n",
       "  </tbody>\n",
       "</table>\n",
       "</div>"
      ],
      "text/plain": [
       "       CUST_ID\n",
       "State         \n",
       "AK           8\n",
       "DE           9\n",
       "TX           7"
      ]
     },
     "execution_count": 145,
     "metadata": {},
     "output_type": "execute_result"
    }
   ],
   "source": [
    "adult_group = cust_claim.loc[cust_claim.Age_Group=='Adult']\n",
    "adult_group_states = adult_group.loc[(adult_group.State=='TX')|(adult_group.State=='DE')|(adult_group.State=='AK')]\n",
    "driver = adult_group_states.loc[(adult_group_states.incident_cause=='Driver error')|(adult_group_states.incident_cause=='Other driver error')]\n",
    "driver.groupby('State')[['CUST_ID']].count()"
   ]
  },
  {
   "cell_type": "markdown",
   "id": "6e9f9eb9",
   "metadata": {},
   "source": [
    "### 11. Draw a pie chart between the aggregated value of claim amount based on gender and segment. Represent the claim amount as a percentage on the pie chart.\n"
   ]
  },
  {
   "cell_type": "code",
   "execution_count": 156,
   "id": "893bf625",
   "metadata": {},
   "outputs": [
    {
     "data": {
      "image/png": "[encoded data removed]",
      "text/plain": [
       "<Figure size 1500x1500 with 3 Axes>"
      ]
     },
     "metadata": {},
     "output_type": "display_data"
    }
   ],
   "source": [
    "table = pd.pivot_table(data = cust_claim, index = 'gender',columns = 'Segment',values='claim_amount',aggfunc = 'sum').plot(kind='pie',subplots = True,figsize=(15,15),autopct='%0.1f%%')"
   ]
  },
  {
   "cell_type": "markdown",
   "id": "1e29057c",
   "metadata": {},
   "source": [
    "### 12. Among males and females, which gender had claimed the most for any type of driver related issues? E.g. This metric can be compared using a bar chart"
   ]
  },
  {
   "cell_type": "code",
   "execution_count": 267,
   "id": "c859f150",
   "metadata": {},
   "outputs": [
    {
     "data": {
      "image/png": "[encoded data removed]",
      "text/plain": [
       "<Figure size 500x500 with 1 Axes>"
      ]
     },
     "metadata": {},
     "output_type": "display_data"
    }
   ],
   "source": [
    "driver_error = cust_claim.loc[(cust_claim.incident_cause=='Driver error')|(cust_claim.incident_cause=='Other driver error')]\n",
    "driver_error.groupby('gender')[['incident_cause']].count().plot(kind='bar',figsize=(5,5))\n",
    "plt.show()"
   ]
  },
  {
   "cell_type": "markdown",
   "id": "041fc0ee",
   "metadata": {},
   "source": [
    "### 13. Which age group had the maximum fraudulent policy claims? Visualize it on a bar chart."
   ]
  },
  {
   "cell_type": "code",
   "execution_count": 164,
   "id": "8d4ad531",
   "metadata": {},
   "outputs": [
    {
     "data": {
      "image/png": "[encoded data removed]",
      "text/plain": [
       "<Figure size 640x480 with 1 Axes>"
      ]
     },
     "metadata": {},
     "output_type": "display_data"
    }
   ],
   "source": [
    "fraud = cust_claim.loc[cust_claim.fraudulent=='Yes']\n",
    "fraud.groupby('Age_Group')[['fraudulent']].count().plot(kind='bar')\n",
    "plt.show()"
   ]
  },
  {
   "cell_type": "markdown",
   "id": "032ba8c4",
   "metadata": {},
   "source": [
    "### 14. Visualize the monthly trend of the total amount that has been claimed by the customers. Ensure that on the “month” axis, the month is in a chronological order not alphabetical order. "
   ]
  },
  {
   "cell_type": "code",
   "execution_count": 190,
   "id": "1cc0ae44",
   "metadata": {},
   "outputs": [
    {
     "data": {
      "image/png": "[encoded data removed]",
      "text/plain": [
       "<Figure size 1000x800 with 1 Axes>"
      ]
     },
     "metadata": {},
     "output_type": "display_data"
    }
   ],
   "source": [
    "cust_claim['claim_month'] = cust_claim.claim_date.dt.month\n",
    "monthly_claim_amount = round(cust_claim.groupby('claim_month')[['claim_amount']].sum().reset_index(),2)\n",
    "plt.figure(figsize = (10,8))\n",
    "sns.barplot(data = monthly_claim_amount, x = 'claim_month', y = 'claim_amount')\n",
    "plt.title('Monthly Trend Of Claim Amount')\n",
    "plt.show()"
   ]
  },
  {
   "cell_type": "markdown",
   "id": "cf061edb",
   "metadata": {},
   "source": [
    "### 15. What is the average claim amount for gender and age categories and suitably represent the above using a facetted bar chart, one facet that represents fraudulent claims and the other for non-fraudulent claims."
   ]
  },
  {
   "cell_type": "code",
   "execution_count": 210,
   "id": "c9bc4987",
   "metadata": {},
   "outputs": [
    {
     "data": {
      "text/html": [
       "<div>\n",
       "<style scoped>\n",
       "    .dataframe tbody tr th:only-of-type {\n",
       "        vertical-align: middle;\n",
       "    }\n",
       "\n",
       "    .dataframe tbody tr th {\n",
       "        vertical-align: top;\n",
       "    }\n",
       "\n",
       "    .dataframe thead th {\n",
       "        text-align: right;\n",
       "    }\n",
       "</style>\n",
       "<table border=\"1\" class=\"dataframe\">\n",
       "  <thead>\n",
       "    <tr style=\"text-align: right;\">\n",
       "      <th></th>\n",
       "      <th>gender</th>\n",
       "      <th>Age_Group</th>\n",
       "      <th>claim_amount</th>\n",
       "    </tr>\n",
       "  </thead>\n",
       "  <tbody>\n",
       "    <tr>\n",
       "      <th>0</th>\n",
       "      <td>Female</td>\n",
       "      <td>Adult</td>\n",
       "      <td>12462.083235</td>\n",
       "    </tr>\n",
       "    <tr>\n",
       "      <th>1</th>\n",
       "      <td>Female</td>\n",
       "      <td>Youth</td>\n",
       "      <td>7599.124835</td>\n",
       "    </tr>\n",
       "    <tr>\n",
       "      <th>2</th>\n",
       "      <td>Male</td>\n",
       "      <td>Adult</td>\n",
       "      <td>17062.198724</td>\n",
       "    </tr>\n",
       "    <tr>\n",
       "      <th>3</th>\n",
       "      <td>Male</td>\n",
       "      <td>Youth</td>\n",
       "      <td>10683.552515</td>\n",
       "    </tr>\n",
       "  </tbody>\n",
       "</table>\n",
       "</div>"
      ],
      "text/plain": [
       "   gender Age_Group  claim_amount\n",
       "0  Female     Adult  12462.083235\n",
       "1  Female     Youth   7599.124835\n",
       "2    Male     Adult  17062.198724\n",
       "3    Male     Youth  10683.552515"
      ]
     },
     "execution_count": 210,
     "metadata": {},
     "output_type": "execute_result"
    }
   ],
   "source": [
    "fraud_claim_amount = cust_claim.loc[cust_claim.fraudulent=='Yes'].groupby(['gender','Age_Group'])[['claim_amount']].mean().reset_index()\n",
    "fraud_claim_amount"
   ]
  },
  {
   "cell_type": "code",
   "execution_count": 211,
   "id": "db260a67",
   "metadata": {},
   "outputs": [
    {
     "data": {
      "text/html": [
       "<div>\n",
       "<style scoped>\n",
       "    .dataframe tbody tr th:only-of-type {\n",
       "        vertical-align: middle;\n",
       "    }\n",
       "\n",
       "    .dataframe tbody tr th {\n",
       "        vertical-align: top;\n",
       "    }\n",
       "\n",
       "    .dataframe thead th {\n",
       "        text-align: right;\n",
       "    }\n",
       "</style>\n",
       "<table border=\"1\" class=\"dataframe\">\n",
       "  <thead>\n",
       "    <tr style=\"text-align: right;\">\n",
       "      <th></th>\n",
       "      <th>gender</th>\n",
       "      <th>Age_Group</th>\n",
       "      <th>claim_amount</th>\n",
       "    </tr>\n",
       "  </thead>\n",
       "  <tbody>\n",
       "    <tr>\n",
       "      <th>0</th>\n",
       "      <td>Female</td>\n",
       "      <td>Adult</td>\n",
       "      <td>12383.774926</td>\n",
       "    </tr>\n",
       "    <tr>\n",
       "      <th>1</th>\n",
       "      <td>Female</td>\n",
       "      <td>Youth</td>\n",
       "      <td>12522.417294</td>\n",
       "    </tr>\n",
       "    <tr>\n",
       "      <th>2</th>\n",
       "      <td>Male</td>\n",
       "      <td>Adult</td>\n",
       "      <td>12183.729275</td>\n",
       "    </tr>\n",
       "    <tr>\n",
       "      <th>3</th>\n",
       "      <td>Male</td>\n",
       "      <td>Youth</td>\n",
       "      <td>12217.043202</td>\n",
       "    </tr>\n",
       "  </tbody>\n",
       "</table>\n",
       "</div>"
      ],
      "text/plain": [
       "   gender Age_Group  claim_amount\n",
       "0  Female     Adult  12383.774926\n",
       "1  Female     Youth  12522.417294\n",
       "2    Male     Adult  12183.729275\n",
       "3    Male     Youth  12217.043202"
      ]
     },
     "execution_count": 211,
     "metadata": {},
     "output_type": "execute_result"
    }
   ],
   "source": [
    "nonfraud_claim_amount = cust_claim.loc[cust_claim.fraudulent=='No'].groupby(['gender','Age_Group'])[['claim_amount']].mean().reset_index()\n",
    "nonfraud_claim_amount"
   ]
  },
  {
   "cell_type": "code",
   "execution_count": 216,
   "id": "5a0b2283",
   "metadata": {},
   "outputs": [
    {
     "data": {
      "text/html": [
       "<div>\n",
       "<style scoped>\n",
       "    .dataframe tbody tr th:only-of-type {\n",
       "        vertical-align: middle;\n",
       "    }\n",
       "\n",
       "    .dataframe tbody tr th {\n",
       "        vertical-align: top;\n",
       "    }\n",
       "\n",
       "    .dataframe thead th {\n",
       "        text-align: right;\n",
       "    }\n",
       "</style>\n",
       "<table border=\"1\" class=\"dataframe\">\n",
       "  <thead>\n",
       "    <tr style=\"text-align: right;\">\n",
       "      <th></th>\n",
       "      <th>gender</th>\n",
       "      <th>Age_Group</th>\n",
       "      <th>claim_amount_Fraud</th>\n",
       "      <th>claim_amount_Non_Fraud</th>\n",
       "    </tr>\n",
       "  </thead>\n",
       "  <tbody>\n",
       "    <tr>\n",
       "      <th>0</th>\n",
       "      <td>Female</td>\n",
       "      <td>Adult</td>\n",
       "      <td>12462.083235</td>\n",
       "      <td>12383.774926</td>\n",
       "    </tr>\n",
       "    <tr>\n",
       "      <th>1</th>\n",
       "      <td>Female</td>\n",
       "      <td>Youth</td>\n",
       "      <td>7599.124835</td>\n",
       "      <td>12522.417294</td>\n",
       "    </tr>\n",
       "    <tr>\n",
       "      <th>2</th>\n",
       "      <td>Male</td>\n",
       "      <td>Adult</td>\n",
       "      <td>17062.198724</td>\n",
       "      <td>12183.729275</td>\n",
       "    </tr>\n",
       "    <tr>\n",
       "      <th>3</th>\n",
       "      <td>Male</td>\n",
       "      <td>Youth</td>\n",
       "      <td>10683.552515</td>\n",
       "      <td>12217.043202</td>\n",
       "    </tr>\n",
       "  </tbody>\n",
       "</table>\n",
       "</div>"
      ],
      "text/plain": [
       "   gender Age_Group  claim_amount_Fraud  claim_amount_Non_Fraud\n",
       "0  Female     Adult        12462.083235            12383.774926\n",
       "1  Female     Youth         7599.124835            12522.417294\n",
       "2    Male     Adult        17062.198724            12183.729275\n",
       "3    Male     Youth        10683.552515            12217.043202"
      ]
     },
     "execution_count": 216,
     "metadata": {},
     "output_type": "execute_result"
    }
   ],
   "source": [
    "average_claim = pd.merge(left=fraud_claim_amount,right=nonfraud_claim_amount,on=['gender','Age_Group'],how='inner',suffixes = ('_Fraud','_Non_Fraud'))\n",
    "average_claim"
   ]
  },
  {
   "cell_type": "code",
   "execution_count": 226,
   "id": "b85221d5",
   "metadata": {},
   "outputs": [
    {
     "data": {
      "image/png": "[encoded data removed]",
      "text/plain": [
       "<Figure size 800x800 with 1 Axes>"
      ]
     },
     "metadata": {},
     "output_type": "display_data"
    }
   ],
   "source": [
    "average_claim.plot(kind='bar',figsize=(8,8))\n",
    "plt.show()"
   ]
  },
  {
   "cell_type": "markdown",
   "id": "492cf500",
   "metadata": {},
   "source": [
    "## Based on the conclusions from exploratory analysis as well as suitable statistical tests, answer the below questions. Please include a detailed write-up on the parameters taken into consideration, the Hypothesis testing steps, conclusion from the p-values and the business implications of the statements. \n",
    "#### 16. Is there any similarity in the amount claimed by males and females?\n"
   ]
  },
  {
   "cell_type": "code",
   "execution_count": 252,
   "id": "28dc5494",
   "metadata": {},
   "outputs": [
    {
     "data": {
      "text/plain": [
       "6        2680.0\n",
       "8       38306.5\n",
       "10       1730.0\n",
       "11       1160.0\n",
       "12       2620.0\n",
       "         ...   \n",
       "1077     2290.0\n",
       "1078     2320.0\n",
       "1079     2173.5\n",
       "1082    33080.0\n",
       "1084     1490.0\n",
       "Name: claim_amount, Length: 551, dtype: float64"
      ]
     },
     "execution_count": 252,
     "metadata": {},
     "output_type": "execute_result"
    }
   ],
   "source": [
    "u_m = cust_claim.loc[cust_claim.gender=='Male'].claim_amount\n",
    "u_m"
   ]
  },
  {
   "cell_type": "code",
   "execution_count": 253,
   "id": "f86a0cc6",
   "metadata": {},
   "outputs": [
    {
     "data": {
      "text/plain": [
       "0        2980.0\n",
       "1        2980.0\n",
       "2        3369.5\n",
       "4        1680.0\n",
       "13       2748.5\n",
       "         ...   \n",
       "1072    38950.0\n",
       "1076     1380.0\n",
       "1080     1770.0\n",
       "1081     2800.0\n",
       "1083     2840.0\n",
       "Name: claim_amount, Length: 527, dtype: float64"
      ]
     },
     "execution_count": 253,
     "metadata": {},
     "output_type": "execute_result"
    }
   ],
   "source": [
    "u_f = cust_claim.loc[cust_claim.gender=='Female'].claim_amount\n",
    "u_f"
   ]
  },
  {
   "cell_type": "code",
   "execution_count": 255,
   "id": "959214c7",
   "metadata": {},
   "outputs": [
    {
     "name": "stdout",
     "output_type": "stream",
     "text": [
      "mean of male customers claim amount 12822.81660016878\n",
      "mean of female customers claim amount 12102.135592140887\n"
     ]
    }
   ],
   "source": [
    "print('mean of male customers claim amount',u_m.mean())\n",
    "print('mean of female customers claim amount',u_f.mean())"
   ]
  },
  {
   "cell_type": "raw",
   "id": "139b3b8b",
   "metadata": {},
   "source": [
    "HYPOTHESIS TESTING:-\n",
    "\n",
    "1.) H0 => u_m = u_f\n",
    "2.) Ha => u_m != u_f\n",
    "3.) CI = 95%\n",
    "         p-value = 0.05\n",
    "4.)Test performing:-  As we are comparing mean then we will go for F-test.       "
   ]
  },
  {
   "cell_type": "code",
   "execution_count": 256,
   "id": "1cea6b87",
   "metadata": {},
   "outputs": [
    {
     "data": {
      "text/plain": [
       "F_onewayResult(statistic=0.7829955562662301, pvalue=0.3764242430542767)"
      ]
     },
     "execution_count": 256,
     "metadata": {},
     "output_type": "execute_result"
    }
   ],
   "source": [
    "stats.f_oneway(u_m,u_f)"
   ]
  },
  {
   "cell_type": "raw",
   "id": "c3e9b34d",
   "metadata": {},
   "source": [
    "5.) Business conclusion:- After performing the test we can conclude that there is a relation b/w amount claimed by males and                               females customers.  "
   ]
  },
  {
   "cell_type": "markdown",
   "id": "388fb348",
   "metadata": {},
   "source": [
    "### 17. Is there any relationship between age category and segment?"
   ]
  },
  {
   "cell_type": "raw",
   "id": "27d917e7",
   "metadata": {},
   "source": [
    "HYPOTHESIS TESTING:-\n",
    "\n",
    "1.) H0 => both variables are not related to each other \n",
    "2.) Ha => both are related to each other \n",
    "3.) CI = 95%\n",
    "         p-value = 0.05\n",
    "4.)Test performing:-  As we are comparing two categorical variables then we will go for chi-square test."
   ]
  },
  {
   "cell_type": "code",
   "execution_count": 263,
   "id": "b4517d1c",
   "metadata": {},
   "outputs": [
    {
     "data": {
      "text/html": [
       "<div>\n",
       "<style scoped>\n",
       "    .dataframe tbody tr th:only-of-type {\n",
       "        vertical-align: middle;\n",
       "    }\n",
       "\n",
       "    .dataframe tbody tr th {\n",
       "        vertical-align: top;\n",
       "    }\n",
       "\n",
       "    .dataframe thead th {\n",
       "        text-align: right;\n",
       "    }\n",
       "</style>\n",
       "<table border=\"1\" class=\"dataframe\">\n",
       "  <thead>\n",
       "    <tr style=\"text-align: right;\">\n",
       "      <th>Age_Group</th>\n",
       "      <th>Adult</th>\n",
       "      <th>Youth</th>\n",
       "    </tr>\n",
       "    <tr>\n",
       "      <th>Segment</th>\n",
       "      <th></th>\n",
       "      <th></th>\n",
       "    </tr>\n",
       "  </thead>\n",
       "  <tbody>\n",
       "    <tr>\n",
       "      <th>Gold</th>\n",
       "      <td>267</td>\n",
       "      <td>104</td>\n",
       "    </tr>\n",
       "    <tr>\n",
       "      <th>Platinum</th>\n",
       "      <td>244</td>\n",
       "      <td>117</td>\n",
       "    </tr>\n",
       "    <tr>\n",
       "      <th>Silver</th>\n",
       "      <td>245</td>\n",
       "      <td>101</td>\n",
       "    </tr>\n",
       "  </tbody>\n",
       "</table>\n",
       "</div>"
      ],
      "text/plain": [
       "Age_Group  Adult  Youth\n",
       "Segment                \n",
       "Gold         267    104\n",
       "Platinum     244    117\n",
       "Silver       245    101"
      ]
     },
     "execution_count": 263,
     "metadata": {},
     "output_type": "execute_result"
    }
   ],
   "source": [
    "obs_fre_table = pd.crosstab(cust_claim.Segment,cust_claim.Age_Group)\n",
    "obs_fre_table"
   ]
  },
  {
   "cell_type": "code",
   "execution_count": 265,
   "id": "4cbe6a2f",
   "metadata": {},
   "outputs": [
    {
     "data": {
      "text/plain": [
       "(1.786085862056675,\n",
       " 0.40940805491231314,\n",
       " 2,\n",
       " array([[260.18181818, 110.81818182],\n",
       "        [253.16883117, 107.83116883],\n",
       "        [242.64935065, 103.35064935]]))"
      ]
     },
     "execution_count": 265,
     "metadata": {},
     "output_type": "execute_result"
    }
   ],
   "source": [
    "stats.chi2_contingency(obs_fre_table)"
   ]
  },
  {
   "cell_type": "raw",
   "id": "10b27396",
   "metadata": {},
   "source": [
    "5.) Business conclusion:- after performing the hypothsis we can conclude that there is no relation b/w the variables."
   ]
  },
  {
   "cell_type": "markdown",
   "id": "c2d118cb",
   "metadata": {},
   "source": [
    "### 18. The current year has shown a significant rise in claim amounts as compared to 2016-17 fiscal average which was $10,000."
   ]
  },
  {
   "cell_type": "raw",
   "id": "8b04a325",
   "metadata": {},
   "source": [
    "HYPOTHESIS TESTING:-\n",
    "\n",
    "1.) H0 => u1<=10000 \n",
    "2.) Ha => u1>10000\n",
    "3.) CI = 95%\n",
    "         p-value = 0.05\n",
    "4.)Test performing:-  As we have one variable and that is based on sample then we will go for t-test."
   ]
  },
  {
   "cell_type": "code",
   "execution_count": 266,
   "id": "7c045e43",
   "metadata": {},
   "outputs": [
    {
     "data": {
      "text/plain": [
       "12470.498519249744"
      ]
     },
     "execution_count": 266,
     "metadata": {},
     "output_type": "execute_result"
    }
   ],
   "source": [
    "mean = cust_claim.claim_amount.mean()\n",
    "mean\n",
    "# as mean improoved significantly so to proove we need to validate our hypothesis by performing t-test"
   ]
  },
  {
   "cell_type": "code",
   "execution_count": 267,
   "id": "04a8b169",
   "metadata": {},
   "outputs": [
    {
     "data": {
      "text/plain": [
       "Ttest_1sampResult(statistic=6.068796577191385, pvalue=1.7827316562159517e-09)"
      ]
     },
     "execution_count": 267,
     "metadata": {},
     "output_type": "execute_result"
    }
   ],
   "source": [
    "stats.ttest_1samp(cust_claim.claim_amount,10000)"
   ]
  },
  {
   "cell_type": "raw",
   "id": "133e5fa6",
   "metadata": {},
   "source": [
    "5.) Business conclusion:- after performing the hypothesis we can conclude that claims have improoved."
   ]
  },
  {
   "cell_type": "markdown",
   "id": "3783dc1c",
   "metadata": {},
   "source": [
    "### 19. Is there any difference between age groups and insurance claims?"
   ]
  },
  {
   "cell_type": "code",
   "execution_count": 274,
   "id": "049f9385",
   "metadata": {},
   "outputs": [
    {
     "data": {
      "text/plain": [
       "0       1.0\n",
       "1       3.0\n",
       "2       1.0\n",
       "4       1.0\n",
       "6       1.0\n",
       "       ... \n",
       "1076    3.0\n",
       "1077    1.0\n",
       "1079    1.0\n",
       "1080    1.0\n",
       "1083    4.0\n",
       "Name: total_policy_claims, Length: 756, dtype: float64"
      ]
     },
     "execution_count": 274,
     "metadata": {},
     "output_type": "execute_result"
    }
   ],
   "source": [
    "ag = cust_claim.loc[cust_claim.Age_Group=='Adult','total_policy_claims']\n",
    "ag"
   ]
  },
  {
   "cell_type": "code",
   "execution_count": 276,
   "id": "b42ae2cf",
   "metadata": {},
   "outputs": [
    {
     "data": {
      "text/plain": [
       "10      4.0\n",
       "11      3.0\n",
       "12      1.0\n",
       "15      1.0\n",
       "16      1.0\n",
       "       ... \n",
       "1067    5.0\n",
       "1078    3.0\n",
       "1081    1.0\n",
       "1082    2.0\n",
       "1084    1.0\n",
       "Name: total_policy_claims, Length: 322, dtype: float64"
      ]
     },
     "execution_count": 276,
     "metadata": {},
     "output_type": "execute_result"
    }
   ],
   "source": [
    "yg = cust_claim.loc[cust_claim.Age_Group=='Youth','total_policy_claims']\n",
    "yg"
   ]
  },
  {
   "cell_type": "raw",
   "id": "21380ecd",
   "metadata": {},
   "source": [
    "To validate our claims we will perform hypothesis:-\n",
    "HYPOTHESIS TESTING:-\n",
    "\n",
    "1.) H0 => no difference\n",
    "2.) Ha => there is a difference\n",
    "3.) CI = 95%\n",
    "         p-value = 0.05\n",
    "4.)Test performing:-  As we have two variables to compare for so we will go with F-test."
   ]
  },
  {
   "cell_type": "code",
   "execution_count": 277,
   "id": "cb6fd9be",
   "metadata": {},
   "outputs": [
    {
     "data": {
      "text/plain": [
       "F_onewayResult(statistic=0.5490355624122759, pvalue=0.45887370019389573)"
      ]
     },
     "execution_count": 277,
     "metadata": {},
     "output_type": "execute_result"
    }
   ],
   "source": [
    "stats.f_oneway(ag,yg)"
   ]
  },
  {
   "cell_type": "raw",
   "id": "c9383d38",
   "metadata": {},
   "source": [
    "5.) Business conclusion:- after performing the hypothesis we fail to reject the Null-Hypothesis so there is no difference b/w                             two variables."
   ]
  },
  {
   "cell_type": "markdown",
   "id": "6e00a9c2",
   "metadata": {},
   "source": [
    "### 20. Is there any relationship between total number of policy claims and the claimed amount?\n"
   ]
  },
  {
   "cell_type": "raw",
   "id": "55106db8",
   "metadata": {},
   "source": [
    "HYPOTHESIS TESTING:-\n",
    "\n",
    "1.) H0 => There is no difference b/w the given variables\n",
    "2.) Ha => there is a difference\n",
    "3.) CI = 95%\n",
    "         p-value = 0.05\n",
    "4.)Test performing:-  As we have two continuous variables to compare so we will go for Pearson,s coefficient."
   ]
  },
  {
   "cell_type": "code",
   "execution_count": 279,
   "id": "8fd53cfd",
   "metadata": {},
   "outputs": [
    {
     "data": {
      "text/plain": [
       "PearsonRResult(statistic=-0.014291136186627364, pvalue=0.6392846937920396)"
      ]
     },
     "execution_count": 279,
     "metadata": {},
     "output_type": "execute_result"
    }
   ],
   "source": [
    "stats.pearsonr(cust_claim.total_policy_claims,cust_claim.claim_amount)"
   ]
  },
  {
   "cell_type": "raw",
   "id": "d0c61e27",
   "metadata": {},
   "source": [
    "5.)Business conclusion:- after performing the hypothesis we can conclude that there is no relation among the given two                                    variables."
   ]
  },
  {
   "cell_type": "code",
   "execution_count": null,
   "id": "2a2acabb",
   "metadata": {},
   "outputs": [],
   "source": []
  }
 ],
 "metadata": {
  "kernelspec": {
   "display_name": "Python 3 (ipykernel)",
   "language": "python",
   "name": "python3"
  },
  "language_info": {
   "codemirror_mode": {
    "name": "ipython",
    "version": 3
   },
   "file_extension": ".py",
   "mimetype": "text/x-python",
   "name": "python",
   "nbconvert_exporter": "python",
   "pygments_lexer": "ipython3",
   "version": "3.9.13"
  }
 },
 "nbformat": 4,
 "nbformat_minor": 5
}
