{
 "cells": [
  {
   "cell_type": "code",
   "execution_count": 1,
   "id": "d321a735",
   "metadata": {},
   "outputs": [],
   "source": [
    "import numpy as np\n",
    "import pandas as pd\n",
    "import matplotlib.pyplot as plt\n",
    "import seaborn as sns\n",
    "import datetime as dt\n",
    "import scipy.stats as stats"
   ]
  },
  {
   "cell_type": "markdown",
   "id": "02a6f5e0",
   "metadata": {},
   "source": [
    "# Business Problem - 1"
   ]
  },
  {
   "cell_type": "code",
   "execution_count": 4,
   "id": "10306b7b",
   "metadata": {},
   "outputs": [
    {
     "data": {
      "text/html": [
       "<div>\n",
       "<style scoped>\n",
       "    .dataframe tbody tr th:only-of-type {\n",
       "        vertical-align: middle;\n",
       "    }\n",
       "\n",
       "    .dataframe tbody tr th {\n",
       "        vertical-align: top;\n",
       "    }\n",
       "\n",
       "    .dataframe thead th {\n",
       "        text-align: right;\n",
       "    }\n",
       "</style>\n",
       "<table border=\"1\" class=\"dataframe\">\n",
       "  <thead>\n",
       "    <tr style=\"text-align: right;\">\n",
       "      <th></th>\n",
       "      <th>Amount.Requested</th>\n",
       "      <th>Amount.Funded.By.Investors</th>\n",
       "      <th>Interest.Rate</th>\n",
       "      <th>Loan.Length</th>\n",
       "      <th>Loan.Purpose</th>\n",
       "      <th>Debt.To.Income.Ratio</th>\n",
       "      <th>State</th>\n",
       "      <th>Home.Ownership</th>\n",
       "      <th>Monthly.Income</th>\n",
       "      <th>FICO.Range</th>\n",
       "      <th>Open.CREDIT.Lines</th>\n",
       "      <th>Revolving.CREDIT.Balance</th>\n",
       "      <th>Inquiries.in.the.Last.6.Months</th>\n",
       "      <th>Employment.Length</th>\n",
       "    </tr>\n",
       "  </thead>\n",
       "  <tbody>\n",
       "    <tr>\n",
       "      <th>0</th>\n",
       "      <td>20000.0</td>\n",
       "      <td>20000.0</td>\n",
       "      <td>8.90%</td>\n",
       "      <td>36 months</td>\n",
       "      <td>debt_consolidation</td>\n",
       "      <td>14.90%</td>\n",
       "      <td>SC</td>\n",
       "      <td>MORTGAGE</td>\n",
       "      <td>6541.67</td>\n",
       "      <td>735-739</td>\n",
       "      <td>14.0</td>\n",
       "      <td>14272.0</td>\n",
       "      <td>2.0</td>\n",
       "      <td>&lt; 1 year</td>\n",
       "    </tr>\n",
       "    <tr>\n",
       "      <th>1</th>\n",
       "      <td>19200.0</td>\n",
       "      <td>19200.0</td>\n",
       "      <td>12.12%</td>\n",
       "      <td>36 months</td>\n",
       "      <td>debt_consolidation</td>\n",
       "      <td>28.36%</td>\n",
       "      <td>TX</td>\n",
       "      <td>MORTGAGE</td>\n",
       "      <td>4583.33</td>\n",
       "      <td>715-719</td>\n",
       "      <td>12.0</td>\n",
       "      <td>11140.0</td>\n",
       "      <td>1.0</td>\n",
       "      <td>2 years</td>\n",
       "    </tr>\n",
       "    <tr>\n",
       "      <th>2</th>\n",
       "      <td>35000.0</td>\n",
       "      <td>35000.0</td>\n",
       "      <td>21.98%</td>\n",
       "      <td>60 months</td>\n",
       "      <td>debt_consolidation</td>\n",
       "      <td>23.81%</td>\n",
       "      <td>CA</td>\n",
       "      <td>MORTGAGE</td>\n",
       "      <td>11500.00</td>\n",
       "      <td>690-694</td>\n",
       "      <td>14.0</td>\n",
       "      <td>21977.0</td>\n",
       "      <td>1.0</td>\n",
       "      <td>2 years</td>\n",
       "    </tr>\n",
       "    <tr>\n",
       "      <th>3</th>\n",
       "      <td>10000.0</td>\n",
       "      <td>9975.0</td>\n",
       "      <td>9.99%</td>\n",
       "      <td>36 months</td>\n",
       "      <td>debt_consolidation</td>\n",
       "      <td>14.30%</td>\n",
       "      <td>KS</td>\n",
       "      <td>MORTGAGE</td>\n",
       "      <td>3833.33</td>\n",
       "      <td>695-699</td>\n",
       "      <td>10.0</td>\n",
       "      <td>9346.0</td>\n",
       "      <td>0.0</td>\n",
       "      <td>5 years</td>\n",
       "    </tr>\n",
       "    <tr>\n",
       "      <th>4</th>\n",
       "      <td>12000.0</td>\n",
       "      <td>12000.0</td>\n",
       "      <td>11.71%</td>\n",
       "      <td>36 months</td>\n",
       "      <td>credit_card</td>\n",
       "      <td>18.78%</td>\n",
       "      <td>NJ</td>\n",
       "      <td>RENT</td>\n",
       "      <td>3195.00</td>\n",
       "      <td>695-699</td>\n",
       "      <td>11.0</td>\n",
       "      <td>14469.0</td>\n",
       "      <td>0.0</td>\n",
       "      <td>9 years</td>\n",
       "    </tr>\n",
       "  </tbody>\n",
       "</table>\n",
       "</div>"
      ],
      "text/plain": [
       "   Amount.Requested  Amount.Funded.By.Investors Interest.Rate Loan.Length  \\\n",
       "0           20000.0                     20000.0         8.90%   36 months   \n",
       "1           19200.0                     19200.0        12.12%   36 months   \n",
       "2           35000.0                     35000.0        21.98%   60 months   \n",
       "3           10000.0                      9975.0         9.99%   36 months   \n",
       "4           12000.0                     12000.0        11.71%   36 months   \n",
       "\n",
       "         Loan.Purpose Debt.To.Income.Ratio State Home.Ownership  \\\n",
       "0  debt_consolidation               14.90%    SC       MORTGAGE   \n",
       "1  debt_consolidation               28.36%    TX       MORTGAGE   \n",
       "2  debt_consolidation               23.81%    CA       MORTGAGE   \n",
       "3  debt_consolidation               14.30%    KS       MORTGAGE   \n",
       "4         credit_card               18.78%    NJ           RENT   \n",
       "\n",
       "   Monthly.Income FICO.Range  Open.CREDIT.Lines  Revolving.CREDIT.Balance  \\\n",
       "0         6541.67    735-739               14.0                   14272.0   \n",
       "1         4583.33    715-719               12.0                   11140.0   \n",
       "2        11500.00    690-694               14.0                   21977.0   \n",
       "3         3833.33    695-699               10.0                    9346.0   \n",
       "4         3195.00    695-699               11.0                   14469.0   \n",
       "\n",
       "   Inquiries.in.the.Last.6.Months Employment.Length  \n",
       "0                             2.0          < 1 year  \n",
       "1                             1.0           2 years  \n",
       "2                             1.0           2 years  \n",
       "3                             0.0           5 years  \n",
       "4                             0.0           9 years  "
      ]
     },
     "execution_count": 4,
     "metadata": {},
     "output_type": "execute_result"
    }
   ],
   "source": [
    "loan = pd.read_csv(\"C:\\Mohit Personel\\COURSES\\Analytix Labs\\Python for Data Science\\Python Projects\\Statistical python case study\\Basic Statistics - Hypothesis Testing\\LoansData.csv\")\n",
    "loan.head()"
   ]
  },
  {
   "cell_type": "code",
   "execution_count": 7,
   "id": "f6686824",
   "metadata": {},
   "outputs": [],
   "source": [
    "loan['Interest.Rate']=loan['Interest.Rate'].str.replace('%','')"
   ]
  },
  {
   "cell_type": "code",
   "execution_count": 8,
   "id": "a4531025",
   "metadata": {},
   "outputs": [],
   "source": [
    "loan['Interest.Rate'] = pd.to_numeric(loan['Interest.Rate'])"
   ]
  },
  {
   "cell_type": "code",
   "execution_count": 12,
   "id": "8066c390",
   "metadata": {},
   "outputs": [],
   "source": [
    "loan.dropna(axis = 0, inplace = True)"
   ]
  },
  {
   "cell_type": "markdown",
   "id": "3ab490de",
   "metadata": {},
   "source": [
    "### a. Intrest rate is varied for different loan amounts (Less intrest charged for high loan amounts)\n"
   ]
  },
  {
   "cell_type": "raw",
   "id": "744d5b8d",
   "metadata": {},
   "source": [
    "Hypothesis Testing:-\n",
    "H0 = Both variables are related to each other\n",
    "Ha = Both variables are not related to each other\n",
    "CI = 95%\n",
    "        p-value = 0.05\n",
    "Performing the hypothesis:-"
   ]
  },
  {
   "cell_type": "code",
   "execution_count": 13,
   "id": "5427ca67",
   "metadata": {},
   "outputs": [
    {
     "data": {
      "text/plain": [
       "PearsonRResult(statistic=0.3315955311036452, pvalue=5.064256950483673e-63)"
      ]
     },
     "execution_count": 13,
     "metadata": {},
     "output_type": "execute_result"
    }
   ],
   "source": [
    "stats.pearsonr(loan['Amount.Funded.By.Investors'],loan['Interest.Rate'])"
   ]
  },
  {
   "cell_type": "raw",
   "id": "a5bf26c9",
   "metadata": {},
   "source": [
    "Business conclusion:- There is INDIRECT near to weak relation b/w two variables."
   ]
  },
  {
   "cell_type": "markdown",
   "id": "eace2d35",
   "metadata": {},
   "source": [
    "### b. Loan length is directly effecting intrest rate."
   ]
  },
  {
   "cell_type": "code",
   "execution_count": 16,
   "id": "b8a01af8",
   "metadata": {},
   "outputs": [
    {
     "data": {
      "text/plain": [
       "36 months    1876\n",
       "60 months     537\n",
       "Name: Loan.Length, dtype: int64"
      ]
     },
     "execution_count": 16,
     "metadata": {},
     "output_type": "execute_result"
    }
   ],
   "source": [
    "loan['Loan.Length'].value_counts()"
   ]
  },
  {
   "cell_type": "code",
   "execution_count": 19,
   "id": "60fe16f0",
   "metadata": {},
   "outputs": [],
   "source": [
    "l36 = loan.loc[loan['Loan.Length']=='36 months','Interest.Rate']"
   ]
  },
  {
   "cell_type": "code",
   "execution_count": 20,
   "id": "fa669b4e",
   "metadata": {},
   "outputs": [],
   "source": [
    "l60 = loan.loc[loan['Loan.Length']=='60 months','Interest.Rate']"
   ]
  },
  {
   "cell_type": "code",
   "execution_count": 23,
   "id": "4b9ed1f7",
   "metadata": {},
   "outputs": [
    {
     "name": "stdout",
     "output_type": "stream",
     "text": [
      "Mean of l36  12.130074626865769\n",
      "Mean of l60  16.378733705772785\n"
     ]
    }
   ],
   "source": [
    "print('Mean of l36 ' ,l36.mean())\n",
    "print('Mean of l60 ' ,l60.mean())"
   ]
  },
  {
   "cell_type": "raw",
   "id": "43aad9a2",
   "metadata": {},
   "source": [
    "Hypothesis Testing:-\n",
    "H0 = Means are from same population\n",
    "Ha = Means are from different population\n",
    "CI = 95%\n",
    "        p-value = 0.05\n",
    "Performing the hypothesis:-"
   ]
  },
  {
   "cell_type": "code",
   "execution_count": 24,
   "id": "db10d566",
   "metadata": {},
   "outputs": [
    {
     "data": {
      "text/plain": [
       "F_onewayResult(statistic=531.6618311658129, pvalue=1.7938010673422317e-106)"
      ]
     },
     "execution_count": 24,
     "metadata": {},
     "output_type": "execute_result"
    }
   ],
   "source": [
    "stats.f_oneway(l36,l60)"
   ]
  },
  {
   "cell_type": "raw",
   "id": "50a4af72",
   "metadata": {},
   "source": [
    "Business conclusion - loan length is not directly affecting loan interest."
   ]
  },
  {
   "cell_type": "markdown",
   "id": "2e54549f",
   "metadata": {},
   "source": [
    "### c. Inrest rate varies for different purpose of loans"
   ]
  },
  {
   "cell_type": "code",
   "execution_count": 28,
   "id": "37bc0988",
   "metadata": {},
   "outputs": [],
   "source": [
    "dc = loan.loc[loan['Loan.Purpose']=='debt_consolidation','Interest.Rate']"
   ]
  },
  {
   "cell_type": "code",
   "execution_count": 29,
   "id": "b79d17b6",
   "metadata": {},
   "outputs": [],
   "source": [
    "cc = loan.loc[loan['Loan.Purpose']=='credit_card','Interest.Rate']"
   ]
  },
  {
   "cell_type": "code",
   "execution_count": 30,
   "id": "063077ab",
   "metadata": {},
   "outputs": [],
   "source": [
    "ot = loan.loc[loan['Loan.Purpose']=='other','Interest.Rate']"
   ]
  },
  {
   "cell_type": "code",
   "execution_count": 31,
   "id": "1aeb506b",
   "metadata": {},
   "outputs": [],
   "source": [
    "hi = loan.loc[loan['Loan.Purpose']=='home_improvement','Interest.Rate']"
   ]
  },
  {
   "cell_type": "code",
   "execution_count": 32,
   "id": "e882c49c",
   "metadata": {},
   "outputs": [],
   "source": [
    "mp = loan.loc[loan['Loan.Purpose']=='major_purchase','Interest.Rate']"
   ]
  },
  {
   "cell_type": "code",
   "execution_count": 33,
   "id": "29df62eb",
   "metadata": {},
   "outputs": [],
   "source": [
    "sb = loan.loc[loan['Loan.Purpose']=='small_business','Interest.Rate']"
   ]
  },
  {
   "cell_type": "code",
   "execution_count": 35,
   "id": "a2b8aa6d",
   "metadata": {},
   "outputs": [],
   "source": [
    "car = loan.loc[loan['Loan.Purpose']=='car','Interest.Rate']"
   ]
  },
  {
   "cell_type": "code",
   "execution_count": 36,
   "id": "e318c6de",
   "metadata": {},
   "outputs": [],
   "source": [
    "wed = loan.loc[loan['Loan.Purpose']=='wedding','Interest.Rate']"
   ]
  },
  {
   "cell_type": "code",
   "execution_count": 37,
   "id": "f23444bd",
   "metadata": {},
   "outputs": [],
   "source": [
    "mov = loan.loc[loan['Loan.Purpose']=='moving','Interest.Rate']"
   ]
  },
  {
   "cell_type": "code",
   "execution_count": 38,
   "id": "9dea2f94",
   "metadata": {},
   "outputs": [],
   "source": [
    "med = loan.loc[loan['Loan.Purpose']=='medical','Interest.Rate']"
   ]
  },
  {
   "cell_type": "code",
   "execution_count": 39,
   "id": "5ac5cc71",
   "metadata": {},
   "outputs": [],
   "source": [
    "vac = loan.loc[loan['Loan.Purpose']== 'vacation','Interest.Rate']"
   ]
  },
  {
   "cell_type": "code",
   "execution_count": 40,
   "id": "1738c4ba",
   "metadata": {},
   "outputs": [],
   "source": [
    "house = loan.loc[loan['Loan.Purpose']=='house','Interest.Rate']"
   ]
  },
  {
   "cell_type": "code",
   "execution_count": 41,
   "id": "d51b0f99",
   "metadata": {},
   "outputs": [],
   "source": [
    "edu = loan.loc[loan['Loan.Purpose']=='educational','Interest.Rate']"
   ]
  },
  {
   "cell_type": "code",
   "execution_count": 42,
   "id": "64daf81a",
   "metadata": {},
   "outputs": [],
   "source": [
    "re = loan.loc[loan['Loan.Purpose']=='renewable_energy','Interest.Rate']"
   ]
  },
  {
   "cell_type": "raw",
   "id": "bd6fec59",
   "metadata": {},
   "source": [
    "Hypothesis Testing:-\n",
    "H0 = Means are from same population\n",
    "Ha = Means are from different population\n",
    "CI = 95%\n",
    "        p-value = 0.05\n",
    "Performing the hypothesis:-"
   ]
  },
  {
   "cell_type": "code",
   "execution_count": 43,
   "id": "fa1c2042",
   "metadata": {},
   "outputs": [
    {
     "data": {
      "text/plain": [
       "F_onewayResult(statistic=7.330838185919651, pvalue=2.7646672581411367e-14)"
      ]
     },
     "execution_count": 43,
     "metadata": {},
     "output_type": "execute_result"
    }
   ],
   "source": [
    "stats.f_oneway(dc,cc,ot,hi,mp,sb,car,wed,mov,med,vac,house,edu,re)"
   ]
  },
  {
   "cell_type": "raw",
   "id": "76300c00",
   "metadata": {},
   "source": [
    "Business conclusion:- interest rate does not vary with purpose of purchase."
   ]
  },
  {
   "cell_type": "markdown",
   "id": "987d980e",
   "metadata": {},
   "source": [
    "### d. There is relationship between FICO scores and Home Ownership. It means that, People with owning home will have high FICO scores."
   ]
  },
  {
   "cell_type": "raw",
   "id": "51971548",
   "metadata": {},
   "source": [
    "Hypothesis Testing:-\n",
    "H0 = both variables are not related\n",
    "Ha = both are related\n",
    "CI = 95%\n",
    "        p-value = 0.05\n",
    "Performing the hypothesis:-"
   ]
  },
  {
   "cell_type": "code",
   "execution_count": 47,
   "id": "2bfdbc71",
   "metadata": {},
   "outputs": [],
   "source": [
    "obs_freq = pd.crosstab(loan['FICO.Range'],loan['Home.Ownership'])"
   ]
  },
  {
   "cell_type": "code",
   "execution_count": 48,
   "id": "664c8671",
   "metadata": {},
   "outputs": [
    {
     "data": {
      "text/plain": [
       "(269.7881202757335,\n",
       " 3.087547281383599e-15,\n",
       " 111,\n",
       " array([[2.29796933e+00, 1.03605470e-02, 3.91628678e-01, 2.30004144e+00],\n",
       "        [1.37878160e+00, 6.21632822e-03, 2.34977207e-01, 1.38002487e+00],\n",
       "        [4.59593867e-01, 2.07210941e-03, 7.83257356e-02, 4.60008288e-01],\n",
       "        [1.83837547e+00, 8.28843763e-03, 3.13302942e-01, 1.84003315e+00],\n",
       "        [5.42320763e+01, 2.44508910e-01, 9.24243680e+00, 5.42809780e+01],\n",
       "        [6.34239536e+01, 2.85951098e-01, 1.08089515e+01, 6.34811438e+01],\n",
       "        [7.67521757e+01, 3.46042271e-01, 1.30803978e+01, 7.68213842e+01],\n",
       "        [7.39946125e+01, 3.33609615e-01, 1.26104434e+01, 7.40613344e+01],\n",
       "        [7.21562370e+01, 3.25321177e-01, 1.22971405e+01, 7.22213013e+01],\n",
       "        [5.88280149e+01, 2.65230004e-01, 1.00256942e+01, 5.88810609e+01],\n",
       "        [6.20451720e+01, 2.79734770e-01, 1.05739743e+01, 6.21011189e+01],\n",
       "        [6.71007045e+01, 3.02527973e-01, 1.14355574e+01, 6.71612101e+01],\n",
       "        [5.69896395e+01, 2.56941567e-01, 9.71239121e+00, 5.70410278e+01],\n",
       "        [6.02067965e+01, 2.71446332e-01, 1.02606714e+01, 6.02610858e+01],\n",
       "        [4.91765437e+01, 2.21715707e-01, 8.38085371e+00, 4.92208869e+01],\n",
       "        [4.22826357e+01, 1.90634065e-01, 7.20596768e+00, 4.23207625e+01],\n",
       "        [4.96361376e+01, 2.23787816e-01, 8.45917944e+00, 4.96808952e+01],\n",
       "        [4.18230419e+01, 1.88561956e-01, 7.12764194e+00, 4.18607542e+01],\n",
       "        [4.32018235e+01, 1.94778284e-01, 7.36261915e+00, 4.32407791e+01],\n",
       "        [2.98736013e+01, 1.34687111e-01, 5.09117281e+00, 2.99005387e+01],\n",
       "        [2.29796933e+01, 1.03605470e-01, 3.91628678e+00, 2.30004144e+01],\n",
       "        [2.48180688e+01, 1.11893908e-01, 4.22958972e+00, 2.48404476e+01],\n",
       "        [2.75756320e+01, 1.24326564e-01, 4.69954414e+00, 2.76004973e+01],\n",
       "        [2.02221301e+01, 9.11728139e-02, 3.44633237e+00, 2.02403647e+01],\n",
       "        [2.06817240e+01, 9.32449233e-02, 3.52465810e+00, 2.07003730e+01],\n",
       "        [1.47070037e+01, 6.63075010e-02, 2.50642354e+00, 1.47202652e+01],\n",
       "        [7.81309573e+00, 3.52258599e-02, 1.33153751e+00, 7.82014090e+00],\n",
       "        [1.01110651e+01, 4.55864070e-02, 1.72316618e+00, 1.01201823e+01],\n",
       "        [1.19494405e+01, 5.38748446e-02, 2.03646913e+00, 1.19602155e+01],\n",
       "        [7.81309573e+00, 3.52258599e-02, 1.33153751e+00, 7.82014090e+00],\n",
       "        [9.19187733e+00, 4.14421881e-02, 1.56651471e+00, 9.20016577e+00],\n",
       "        [5.97472027e+00, 2.69374223e-02, 1.01823456e+00, 5.98010775e+00],\n",
       "        [5.51512640e+00, 2.48653129e-02, 9.39908827e-01, 5.52009946e+00],\n",
       "        [5.05553253e+00, 2.27932035e-02, 8.61583092e-01, 5.06009117e+00],\n",
       "        [3.67675093e+00, 1.65768753e-02, 6.26605885e-01, 3.68006631e+00],\n",
       "        [2.29796933e+00, 1.03605470e-02, 3.91628678e-01, 2.30004144e+00],\n",
       "        [4.59593867e-01, 2.07210941e-03, 7.83257356e-02, 4.60008288e-01],\n",
       "        [4.59593867e-01, 2.07210941e-03, 7.83257356e-02, 4.60008288e-01]]))"
      ]
     },
     "execution_count": 48,
     "metadata": {},
     "output_type": "execute_result"
    }
   ],
   "source": [
    "stats.chi2_contingency(obs_freq)"
   ]
  },
  {
   "cell_type": "raw",
   "id": "4ce14dd6",
   "metadata": {},
   "source": [
    "Business conclusion:- Both variables are related to each other."
   ]
  },
  {
   "cell_type": "markdown",
   "id": "f8c0cbd9",
   "metadata": {},
   "source": [
    "# Business problem 2"
   ]
  },
  {
   "cell_type": "code",
   "execution_count": 50,
   "id": "1c057452",
   "metadata": {},
   "outputs": [
    {
     "data": {
      "text/html": [
       "<div>\n",
       "<style scoped>\n",
       "    .dataframe tbody tr th:only-of-type {\n",
       "        vertical-align: middle;\n",
       "    }\n",
       "\n",
       "    .dataframe tbody tr th {\n",
       "        vertical-align: top;\n",
       "    }\n",
       "\n",
       "    .dataframe thead th {\n",
       "        text-align: right;\n",
       "    }\n",
       "</style>\n",
       "<table border=\"1\" class=\"dataframe\">\n",
       "  <thead>\n",
       "    <tr style=\"text-align: right;\">\n",
       "      <th></th>\n",
       "      <th>Order_Number</th>\n",
       "      <th>Barry_Price</th>\n",
       "      <th>Mary_Price</th>\n",
       "    </tr>\n",
       "  </thead>\n",
       "  <tbody>\n",
       "    <tr>\n",
       "      <th>0</th>\n",
       "      <td>1</td>\n",
       "      <td>126</td>\n",
       "      <td>114</td>\n",
       "    </tr>\n",
       "    <tr>\n",
       "      <th>1</th>\n",
       "      <td>2</td>\n",
       "      <td>110</td>\n",
       "      <td>118</td>\n",
       "    </tr>\n",
       "    <tr>\n",
       "      <th>2</th>\n",
       "      <td>3</td>\n",
       "      <td>138</td>\n",
       "      <td>114</td>\n",
       "    </tr>\n",
       "    <tr>\n",
       "      <th>3</th>\n",
       "      <td>4</td>\n",
       "      <td>142</td>\n",
       "      <td>111</td>\n",
       "    </tr>\n",
       "    <tr>\n",
       "      <th>4</th>\n",
       "      <td>5</td>\n",
       "      <td>146</td>\n",
       "      <td>129</td>\n",
       "    </tr>\n",
       "  </tbody>\n",
       "</table>\n",
       "</div>"
      ],
      "text/plain": [
       "   Order_Number  Barry_Price  Mary_Price\n",
       "0             1          126         114\n",
       "1             2          110         118\n",
       "2             3          138         114\n",
       "3             4          142         111\n",
       "4             5          146         129"
      ]
     },
     "execution_count": 50,
     "metadata": {},
     "output_type": "execute_result"
    }
   ],
   "source": [
    "pq = pd.read_csv(\"C:\\Mohit Personel\\COURSES\\Analytix Labs\\Python for Data Science\\Python Projects\\Statistical python case study\\Basic Statistics - Hypothesis Testing\\Price_Quotes.csv\")\n",
    "pq.head()"
   ]
  },
  {
   "cell_type": "markdown",
   "id": "9ae3b52e",
   "metadata": {},
   "source": [
    "###  We would like to assess if there is any difference in the average price quotes provided by Mary and Barry."
   ]
  },
  {
   "cell_type": "raw",
   "id": "9f19bd41",
   "metadata": {},
   "source": [
    "Hypothesis Testing:-\n",
    "H0 = both variables are not related\n",
    "Ha = both are related\n",
    "CI = 95%\n",
    "        p-value = 0.05\n",
    "Performing the hypothesis:-"
   ]
  },
  {
   "cell_type": "code",
   "execution_count": 51,
   "id": "5d34b104",
   "metadata": {},
   "outputs": [
    {
     "data": {
      "text/plain": [
       "PearsonRResult(statistic=0.8244127830429856, pvalue=0.0009709574235546202)"
      ]
     },
     "execution_count": 51,
     "metadata": {},
     "output_type": "execute_result"
    }
   ],
   "source": [
    "stats.pearsonr(pq.Barry_Price,pq.Mary_Price)"
   ]
  },
  {
   "cell_type": "raw",
   "id": "33fb627d",
   "metadata": {},
   "source": [
    "Business conclusion:- There is a direct and strong relation b/w two variables."
   ]
  },
  {
   "cell_type": "markdown",
   "id": "97d3ce5d",
   "metadata": {},
   "source": [
    "# Business Problem 3"
   ]
  },
  {
   "cell_type": "code",
   "execution_count": 57,
   "id": "e66f326b",
   "metadata": {},
   "outputs": [
    {
     "data": {
      "text/html": [
       "<div>\n",
       "<style scoped>\n",
       "    .dataframe tbody tr th:only-of-type {\n",
       "        vertical-align: middle;\n",
       "    }\n",
       "\n",
       "    .dataframe tbody tr th {\n",
       "        vertical-align: top;\n",
       "    }\n",
       "\n",
       "    .dataframe thead th {\n",
       "        text-align: right;\n",
       "    }\n",
       "</style>\n",
       "<table border=\"1\" class=\"dataframe\">\n",
       "  <thead>\n",
       "    <tr style=\"text-align: right;\">\n",
       "      <th></th>\n",
       "      <th>Month</th>\n",
       "      <th>Reengineer</th>\n",
       "      <th>Employee_Turnover</th>\n",
       "      <th>VAR4</th>\n",
       "      <th>VAR5</th>\n",
       "    </tr>\n",
       "  </thead>\n",
       "  <tbody>\n",
       "    <tr>\n",
       "      <th>0</th>\n",
       "      <td>1</td>\n",
       "      <td>Prior</td>\n",
       "      <td>0.0000</td>\n",
       "      <td>24.390244</td>\n",
       "      <td>42.682927</td>\n",
       "    </tr>\n",
       "    <tr>\n",
       "      <th>1</th>\n",
       "      <td>2</td>\n",
       "      <td>Prior</td>\n",
       "      <td>6.0606</td>\n",
       "      <td>19.354839</td>\n",
       "      <td>25.806452</td>\n",
       "    </tr>\n",
       "    <tr>\n",
       "      <th>2</th>\n",
       "      <td>3</td>\n",
       "      <td>Prior</td>\n",
       "      <td>12.1212</td>\n",
       "      <td>35.087719</td>\n",
       "      <td>146.198830</td>\n",
       "    </tr>\n",
       "    <tr>\n",
       "      <th>3</th>\n",
       "      <td>4</td>\n",
       "      <td>Prior</td>\n",
       "      <td>3.3333</td>\n",
       "      <td>18.404908</td>\n",
       "      <td>110.429448</td>\n",
       "    </tr>\n",
       "    <tr>\n",
       "      <th>4</th>\n",
       "      <td>5</td>\n",
       "      <td>Prior</td>\n",
       "      <td>12.9032</td>\n",
       "      <td>17.964072</td>\n",
       "      <td>23.952096</td>\n",
       "    </tr>\n",
       "  </tbody>\n",
       "</table>\n",
       "</div>"
      ],
      "text/plain": [
       "   Month Reengineer  Employee_Turnover       VAR4        VAR5\n",
       "0      1      Prior             0.0000  24.390244   42.682927\n",
       "1      2      Prior             6.0606  19.354839   25.806452\n",
       "2      3      Prior            12.1212  35.087719  146.198830\n",
       "3      4      Prior             3.3333  18.404908  110.429448\n",
       "4      5      Prior            12.9032  17.964072   23.952096"
      ]
     },
     "execution_count": 57,
     "metadata": {},
     "output_type": "execute_result"
    }
   ],
   "source": [
    "tf = pd.read_csv(\"C:\\Mohit Personel\\COURSES\\Analytix Labs\\Python for Data Science\\Python Projects\\Statistical python case study\\Basic Statistics - Hypothesis Testing\\Treatment_Facility.csv\")\n",
    "tf.head()"
   ]
  },
  {
   "cell_type": "markdown",
   "id": "f734fb8e",
   "metadata": {},
   "source": [
    "### BUSINESS PROBLEM: Determine what effect, if any, the reengineering effort had on the incidence behavioral problems and staff turnover. i.e To determine if the reengineering effortchanged the critical incidence rate. Isthere evidence that the critical incidence rate improved?"
   ]
  },
  {
   "cell_type": "code",
   "execution_count": 58,
   "id": "bd5dbdb2",
   "metadata": {},
   "outputs": [],
   "source": [
    "prior = tf.loc[tf.Reengineer == 'Prior','Employee_Turnover']"
   ]
  },
  {
   "cell_type": "code",
   "execution_count": 59,
   "id": "faa7bace",
   "metadata": {},
   "outputs": [],
   "source": [
    "post = tf.loc[tf.Reengineer == 'Post','Employee_Turnover']"
   ]
  },
  {
   "cell_type": "code",
   "execution_count": 60,
   "id": "86b8e15d",
   "metadata": {},
   "outputs": [
    {
     "name": "stdout",
     "output_type": "stream",
     "text": [
      "mean of prior  11.735692307692307\n",
      "mean of post  18.68912857142857\n"
     ]
    }
   ],
   "source": [
    "print('mean of prior ',prior.mean())\n",
    "print('mean of post ',post.mean())"
   ]
  },
  {
   "cell_type": "raw",
   "id": "82710585",
   "metadata": {},
   "source": [
    "Hypothesis Testing:-\n",
    "H0 = Reengineering effort changed the critical incidence rate\n",
    "Ha = Reengineering effort does not changed the critical incidence rate\n",
    "CI = 95%\n",
    "        p-value = 0.05\n",
    "Performing the hypothesis:-"
   ]
  },
  {
   "cell_type": "code",
   "execution_count": 61,
   "id": "6f39efa1",
   "metadata": {},
   "outputs": [
    {
     "data": {
      "text/plain": [
       "Ttest_indResult(statistic=-1.770306704753604, pvalue=0.09361109345535304)"
      ]
     },
     "execution_count": 61,
     "metadata": {},
     "output_type": "execute_result"
    }
   ],
   "source": [
    "stats.ttest_ind(prior,post)"
   ]
  },
  {
   "cell_type": "raw",
   "id": "1805af21",
   "metadata": {},
   "source": [
    "Business conclusion:- we fail to reject the null hypothesis so reengineering efforts does change the critical incidence rate."
   ]
  },
  {
   "cell_type": "markdown",
   "id": "263079f9",
   "metadata": {},
   "source": [
    "# Business Problem 4"
   ]
  },
  {
   "cell_type": "code",
   "execution_count": 63,
   "id": "ea340f24",
   "metadata": {},
   "outputs": [
    {
     "data": {
      "text/html": [
       "<div>\n",
       "<style scoped>\n",
       "    .dataframe tbody tr th:only-of-type {\n",
       "        vertical-align: middle;\n",
       "    }\n",
       "\n",
       "    .dataframe tbody tr th {\n",
       "        vertical-align: top;\n",
       "    }\n",
       "\n",
       "    .dataframe thead th {\n",
       "        text-align: right;\n",
       "    }\n",
       "</style>\n",
       "<table border=\"1\" class=\"dataframe\">\n",
       "  <thead>\n",
       "    <tr style=\"text-align: right;\">\n",
       "      <th></th>\n",
       "      <th>Days</th>\n",
       "      <th>Priority</th>\n",
       "    </tr>\n",
       "  </thead>\n",
       "  <tbody>\n",
       "    <tr>\n",
       "      <th>0</th>\n",
       "      <td>3.3</td>\n",
       "      <td>High</td>\n",
       "    </tr>\n",
       "    <tr>\n",
       "      <th>1</th>\n",
       "      <td>7.9</td>\n",
       "      <td>Medium</td>\n",
       "    </tr>\n",
       "    <tr>\n",
       "      <th>2</th>\n",
       "      <td>0.3</td>\n",
       "      <td>High</td>\n",
       "    </tr>\n",
       "    <tr>\n",
       "      <th>3</th>\n",
       "      <td>0.7</td>\n",
       "      <td>Medium</td>\n",
       "    </tr>\n",
       "    <tr>\n",
       "      <th>4</th>\n",
       "      <td>8.6</td>\n",
       "      <td>Medium</td>\n",
       "    </tr>\n",
       "  </tbody>\n",
       "</table>\n",
       "</div>"
      ],
      "text/plain": [
       "   Days Priority\n",
       "0   3.3     High\n",
       "1   7.9   Medium\n",
       "2   0.3     High\n",
       "3   0.7   Medium\n",
       "4   8.6   Medium"
      ]
     },
     "execution_count": 63,
     "metadata": {},
     "output_type": "execute_result"
    }
   ],
   "source": [
    "pa = pd.read_csv(\"C:\\Mohit Personel\\COURSES\\Analytix Labs\\Python for Data Science\\Python Projects\\Statistical python case study\\Basic Statistics - Hypothesis Testing\\Priority_Assessment.csv\")\n",
    "pa.head()"
   ]
  },
  {
   "cell_type": "markdown",
   "id": "8014161e",
   "metadata": {},
   "source": [
    "### BUSINESS PROBLEM: We will focus on the prioritization system. If the system is working, then high priority jobs, on average, should be completed more quickly than medium priority jobs, and medium priority jobs should be completed more quickly than low priority jobs. Use the data provided to determine whether thisis, in fact, occurring."
   ]
  },
  {
   "cell_type": "code",
   "execution_count": 64,
   "id": "c34d39f8",
   "metadata": {},
   "outputs": [],
   "source": [
    "high = pa.loc[pa.Priority == 'High','Days']"
   ]
  },
  {
   "cell_type": "code",
   "execution_count": 65,
   "id": "c84fc926",
   "metadata": {},
   "outputs": [],
   "source": [
    "med = pa.loc[pa.Priority == 'Medium','Days']"
   ]
  },
  {
   "cell_type": "code",
   "execution_count": 66,
   "id": "dca82d96",
   "metadata": {},
   "outputs": [],
   "source": [
    "Low = pa.loc[pa.Priority == 'Low','Days']"
   ]
  },
  {
   "cell_type": "code",
   "execution_count": 67,
   "id": "15f06d20",
   "metadata": {},
   "outputs": [
    {
     "name": "stdout",
     "output_type": "stream",
     "text": [
      "Mean of High Priority Jobs  3.023619631901845\n",
      "Mean of Medium Priority Jobs  2.5000000000000004\n",
      "Mean of Low Priority Jobs  4.228358208955225\n"
     ]
    }
   ],
   "source": [
    "print('Mean of High Priority Jobs ',high.mean())\n",
    "print('Mean of Medium Priority Jobs ',med.mean())\n",
    "print('Mean of Low Priority Jobs ',Low.mean())"
   ]
  },
  {
   "cell_type": "raw",
   "id": "22c81136",
   "metadata": {},
   "source": [
    "Hypothesis Testing:-\n",
    "H0 = prioritization system is working\n",
    "Ha = prioritization system is not working\n",
    "CI = 95%\n",
    "        p-value = 0.05\n",
    "Performing the hypothesis:-"
   ]
  },
  {
   "cell_type": "code",
   "execution_count": 68,
   "id": "c075d9bc",
   "metadata": {},
   "outputs": [
    {
     "data": {
      "text/plain": [
       "F_onewayResult(statistic=1.812311010076072, pvalue=0.16411459461716182)"
      ]
     },
     "execution_count": 68,
     "metadata": {},
     "output_type": "execute_result"
    }
   ],
   "source": [
    "stats.f_oneway(high,med,Low)"
   ]
  },
  {
   "cell_type": "raw",
   "id": "2dde3d1c",
   "metadata": {},
   "source": [
    "Business conclusion:- we fail to reject null hypothesis hence prioritizing system is working."
   ]
  },
  {
   "cell_type": "markdown",
   "id": "de17c87c",
   "metadata": {},
   "source": [
    "# Business Problem 5"
   ]
  },
  {
   "cell_type": "code",
   "execution_count": 76,
   "id": "b3f0af65",
   "metadata": {},
   "outputs": [
    {
     "data": {
      "text/html": [
       "<div>\n",
       "<style scoped>\n",
       "    .dataframe tbody tr th:only-of-type {\n",
       "        vertical-align: middle;\n",
       "    }\n",
       "\n",
       "    .dataframe tbody tr th {\n",
       "        vertical-align: top;\n",
       "    }\n",
       "\n",
       "    .dataframe thead th {\n",
       "        text-align: right;\n",
       "    }\n",
       "</style>\n",
       "<table border=\"1\" class=\"dataframe\">\n",
       "  <thead>\n",
       "    <tr style=\"text-align: right;\">\n",
       "      <th></th>\n",
       "      <th>_rowstate_</th>\n",
       "      <th>Movie</th>\n",
       "      <th>Gender</th>\n",
       "      <th>Marital_Status</th>\n",
       "      <th>Sinage</th>\n",
       "      <th>Parking</th>\n",
       "      <th>Clean</th>\n",
       "      <th>Overall</th>\n",
       "      <th>Age</th>\n",
       "      <th>Income</th>\n",
       "      <th>Hear_About</th>\n",
       "    </tr>\n",
       "  </thead>\n",
       "  <tbody>\n",
       "    <tr>\n",
       "      <th>0</th>\n",
       "      <td>0</td>\n",
       "      <td>Ferris Buellers Day Off</td>\n",
       "      <td>Female</td>\n",
       "      <td>Married</td>\n",
       "      <td>2.0</td>\n",
       "      <td>2.0</td>\n",
       "      <td>2.0</td>\n",
       "      <td>2.0</td>\n",
       "      <td>3.0</td>\n",
       "      <td>1.0</td>\n",
       "      <td>5</td>\n",
       "    </tr>\n",
       "    <tr>\n",
       "      <th>1</th>\n",
       "      <td>0</td>\n",
       "      <td>Ferris Buellers Day Off</td>\n",
       "      <td>Female</td>\n",
       "      <td>Single</td>\n",
       "      <td>1.0</td>\n",
       "      <td>1.0</td>\n",
       "      <td>1.0</td>\n",
       "      <td>1.0</td>\n",
       "      <td>2.0</td>\n",
       "      <td>1.0</td>\n",
       "      <td>5</td>\n",
       "    </tr>\n",
       "    <tr>\n",
       "      <th>2</th>\n",
       "      <td>0</td>\n",
       "      <td>Ferris Buellers Day Off</td>\n",
       "      <td>Male</td>\n",
       "      <td>Married</td>\n",
       "      <td>2.0</td>\n",
       "      <td>4.0</td>\n",
       "      <td>3.0</td>\n",
       "      <td>2.0</td>\n",
       "      <td>4.0</td>\n",
       "      <td>1.0</td>\n",
       "      <td>5</td>\n",
       "    </tr>\n",
       "    <tr>\n",
       "      <th>3</th>\n",
       "      <td>0</td>\n",
       "      <td>Ferris Buellers Day Off</td>\n",
       "      <td>Female</td>\n",
       "      <td>Married</td>\n",
       "      <td>1.0</td>\n",
       "      <td>3.0</td>\n",
       "      <td>2.0</td>\n",
       "      <td>2.0</td>\n",
       "      <td>4.0</td>\n",
       "      <td>1.0</td>\n",
       "      <td>5</td>\n",
       "    </tr>\n",
       "    <tr>\n",
       "      <th>4</th>\n",
       "      <td>0</td>\n",
       "      <td>Ferris Buellers Day Off</td>\n",
       "      <td>Female</td>\n",
       "      <td>Married</td>\n",
       "      <td>1.0</td>\n",
       "      <td>1.0</td>\n",
       "      <td>1.0</td>\n",
       "      <td>1.0</td>\n",
       "      <td>3.0</td>\n",
       "      <td>3.0</td>\n",
       "      <td>1</td>\n",
       "    </tr>\n",
       "  </tbody>\n",
       "</table>\n",
       "</div>"
      ],
      "text/plain": [
       "   _rowstate_                    Movie  Gender Marital_Status  Sinage  \\\n",
       "0           0  Ferris Buellers Day Off  Female        Married     2.0   \n",
       "1           0  Ferris Buellers Day Off  Female         Single     1.0   \n",
       "2           0  Ferris Buellers Day Off    Male        Married     2.0   \n",
       "3           0  Ferris Buellers Day Off  Female        Married     1.0   \n",
       "4           0  Ferris Buellers Day Off  Female        Married     1.0   \n",
       "\n",
       "   Parking  Clean  Overall  Age  Income Hear_About  \n",
       "0      2.0    2.0      2.0  3.0     1.0          5  \n",
       "1      1.0    1.0      1.0  2.0     1.0          5  \n",
       "2      4.0    3.0      2.0  4.0     1.0          5  \n",
       "3      3.0    2.0      2.0  4.0     1.0          5  \n",
       "4      1.0    1.0      1.0  3.0     3.0          1  "
      ]
     },
     "execution_count": 76,
     "metadata": {},
     "output_type": "execute_result"
    }
   ],
   "source": [
    "film = pd.read_csv(\"C:\\Mohit Personel\\COURSES\\Analytix Labs\\Python for Data Science\\Python Projects\\Statistical python case study\\Basic Statistics - Hypothesis Testing\\Films.csv\")\n",
    "film.head()"
   ]
  },
  {
   "cell_type": "code",
   "execution_count": 72,
   "id": "76db1018",
   "metadata": {},
   "outputs": [],
   "source": [
    "film.loc[film.Gender=='Male','Gender'] = 1\n",
    "film.loc[film.Gender=='Female','Gender'] = 2\n",
    "film.loc[film.Gender=='1','Gender'] = 1\n",
    "film.loc[film.Gender=='2','Gender'] = 2"
   ]
  },
  {
   "cell_type": "code",
   "execution_count": 77,
   "id": "e8a13134",
   "metadata": {},
   "outputs": [],
   "source": [
    "film.loc[film.Marital_Status=='1','Marital_Status'] = 'Married'\n",
    "film.loc[film.Marital_Status=='2','Marital_Status'] = 'Single'"
   ]
  },
  {
   "cell_type": "markdown",
   "id": "9b4a5263",
   "metadata": {},
   "source": [
    "###  What isthe overall level of customer satisfaction?"
   ]
  },
  {
   "cell_type": "code",
   "execution_count": 94,
   "id": "41686997",
   "metadata": {},
   "outputs": [
    {
     "data": {
      "image/png": "[encoded data removed]",
      "text/plain": [
       "<Figure size 500x500 with 1 Axes>"
      ]
     },
     "metadata": {},
     "output_type": "display_data"
    }
   ],
   "source": [
    "film.groupby('Overall')[['Overall']].count().plot(kind='pie',figsize=(5,5),subplots=True,autopct =  '%1.1f%%',shadow = True,explode = [0.06,0.06,0.06,0.06,0.06])\n",
    "plt.show()"
   ]
  },
  {
   "cell_type": "markdown",
   "id": "5c4f104d",
   "metadata": {},
   "source": [
    "###  What factors are linked to satisfaction?"
   ]
  },
  {
   "cell_type": "code",
   "execution_count": 81,
   "id": "73f1a94d",
   "metadata": {},
   "outputs": [],
   "source": [
    "sf1 = film.Sinage.value_counts()\n",
    "sf2 = film.Parking.value_counts()\n",
    "sf3 = film.Clean.value_counts()"
   ]
  },
  {
   "cell_type": "code",
   "execution_count": 91,
   "id": "a113609f",
   "metadata": {},
   "outputs": [
    {
     "data": {
      "image/png": "[encoded data removed]",
      "text/plain": [
       "<Figure size 800x500 with 3 Axes>"
      ]
     },
     "metadata": {},
     "output_type": "display_data"
    }
   ],
   "source": [
    "plt.figure(figsize=(8,5))\n",
    "plt.subplot(1,3,1)\n",
    "sf1.plot(kind='bar')\n",
    "plt.title('Sinage')\n",
    "plt.subplot(1,3,2)\n",
    "sf2.plot(kind='bar')\n",
    "plt.title('Parking')\n",
    "plt.subplot(1,3,3)\n",
    "sf3.plot(kind='bar')\n",
    "plt.title('Clean')\n",
    "plt.show()"
   ]
  },
  {
   "cell_type": "markdown",
   "id": "e77d3c02",
   "metadata": {},
   "source": [
    "###  What is the demographic profile of Film on the Rocks patrons?"
   ]
  },
  {
   "cell_type": "code",
   "execution_count": 97,
   "id": "89b9d40b",
   "metadata": {},
   "outputs": [],
   "source": [
    "d1 = film.Gender.value_counts()\n",
    "d2 = film.Marital_Status.value_counts()\n",
    "d3 = film.Age.value_counts()\n",
    "d4 = film.Income.value_counts()"
   ]
  },
  {
   "cell_type": "code",
   "execution_count": 99,
   "id": "f0190e41",
   "metadata": {},
   "outputs": [
    {
     "data": {
      "image/png": "[encoded data removed]",
      "text/plain": [
       "<Figure size 800x500 with 4 Axes>"
      ]
     },
     "metadata": {},
     "output_type": "display_data"
    }
   ],
   "source": [
    "plt.figure(figsize=(8,5))\n",
    "plt.subplot(2,2,1)\n",
    "d1.plot(kind='bar')\n",
    "plt.title('Gender')\n",
    "plt.subplot(2,2,2)\n",
    "d2.plot(kind='bar')\n",
    "plt.title('Marital_Status')\n",
    "plt.subplot(2,2,3)\n",
    "d3.plot(kind='bar')\n",
    "plt.title('Age')\n",
    "plt.subplot(2,2,4)\n",
    "d4.plot(kind='bar')\n",
    "plt.title('Income')\n",
    "plt.show()"
   ]
  },
  {
   "cell_type": "markdown",
   "id": "bb8e34fb",
   "metadata": {},
   "source": [
    "###  In what media outlet(s) should the film series be advertised?\n"
   ]
  },
  {
   "cell_type": "code",
   "execution_count": 113,
   "id": "f2254e04",
   "metadata": {},
   "outputs": [
    {
     "data": {
      "image/png": "[encoded data removed]",
      "text/plain": [
       "<Figure size 640x480 with 1 Axes>"
      ]
     },
     "metadata": {},
     "output_type": "display_data"
    }
   ],
   "source": [
    "advertise = film.groupby('Hear_About')[['_rowstate_']].count().sort_values(by = '_rowstate_',ascending = False)\n",
    "advertise.rename(columns = {'_rowstate_':'Total'},inplace=True)\n",
    "advertise.plot(kind='bar')\n",
    "plt.show()"
   ]
  },
  {
   "cell_type": "markdown",
   "id": "c88b33f7",
   "metadata": {},
   "source": [
    "Best way to advertise film is word of mouth."
   ]
  },
  {
   "cell_type": "code",
   "execution_count": null,
   "id": "0924a9ae",
   "metadata": {},
   "outputs": [],
   "source": []
  }
 ],
 "metadata": {
  "kernelspec": {
   "display_name": "Python 3 (ipykernel)",
   "language": "python",
   "name": "python3"
  },
  "language_info": {
   "codemirror_mode": {
    "name": "ipython",
    "version": 3
   },
   "file_extension": ".py",
   "mimetype": "text/x-python",
   "name": "python",
   "nbconvert_exporter": "python",
   "pygments_lexer": "ipython3",
   "version": "3.9.13"
  }
 },
 "nbformat": 4,
 "nbformat_minor": 5
}
